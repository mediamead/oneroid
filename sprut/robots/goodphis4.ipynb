{
 "cells": [
  {
   "cell_type": "markdown",
   "metadata": {},
   "source": [
    "---"
   ]
  },
  {
   "cell_type": "code",
   "execution_count": 1,
   "metadata": {},
   "outputs": [],
   "source": [
    "import pybullet as p\n",
    "import numpy as np\n",
    "import tensorflow as tf\n",
    "\n",
    "from pybullet_robot import PyBulletRobot, W, H\n",
    "\n",
    "import sys, glob, time\n",
    "import pandas as pd \n",
    "import collections\n",
    "\n",
    "from IPython.display import clear_output\n",
    "from matplotlib import pyplot as plt\n",
    "\n",
    "%matplotlib inline\n",
    "%load_ext autoreload\n",
    "%autoreload 2"
   ]
  },
  {
   "cell_type": "code",
   "execution_count": 2,
   "metadata": {},
   "outputs": [
    {
     "name": "stdout",
     "output_type": "stream",
     "text": [
      "*** Initializing PyBulletRobot(ns=4, render=True) ...\n",
      "*** Initializing PyBulletRobot() done\n"
     ]
    }
   ],
   "source": [
    "gui = True\n",
    "r = PyBulletRobot(4, 1, render=gui)"
   ]
  },
  {
   "cell_type": "code",
   "execution_count": null,
   "metadata": {},
   "outputs": [],
   "source": [
    "def mk_model(N, L):\n",
    "    inputs = layer = tf.keras.Input(shape=(7,))\n",
    "    \n",
    "    for _ in range(L):\n",
    "        layer = tf.keras.layers.Dense(N, activation='relu')(layer)\n",
    "        \n",
    "    outputs = tf.keras.layers.Dense(6, activation='tanh')(layer)\n",
    "\n",
    "    model = tf.keras.Model(inputs, outputs)\n",
    "    model.compile(loss='mean_squared_error', optimizer='adam', metrics=['mae'])\n",
    "\n",
    "    return model\n",
    "\n",
    "#print(model.summary())"
   ]
  },
  {
   "cell_type": "code",
   "execution_count": null,
   "metadata": {},
   "outputs": [],
   "source": [
    "def mk_xy(M):\n",
    "    X = np.zeros((M, 7))\n",
    "    Y = np.zeros((M, 6))\n",
    "\n",
    "    Y[:,0] = np.random.uniform(low=-0.6, high=0, size=(M))\n",
    "    Y[:,2] = np.random.uniform(low=0.3, high=0.8, size=(M))\n",
    "    Y[:,4] = np.random.uniform(low=0.3, high=0.8, size=(M))\n",
    "\n",
    "    Y[:,1] = np.random.uniform(low=-0.6, high=0.6, size=(M))\n",
    "    Y[:,3] = np.random.uniform(low=-0.6, high=0.6, size=(M))\n",
    "    Y[:,5] = np.random.uniform(low=-0.6, high=0.6, size=(M))\n",
    "\n",
    "    for i in range(M):\n",
    "        phis = Y[i,:].reshape(-1, 2)\n",
    "        phis = np.append(phis, [phis[-1]], axis=0)\n",
    "        \n",
    "        r.step(phis)\n",
    "        cam_p, cam_o = r.getHeadcamPO()\n",
    "        X[i] = cam_p + cam_o\n",
    "    \n",
    "    return X, Y\n",
    "\n",
    "#mk_xy(1)"
   ]
  },
  {
   "cell_type": "code",
   "execution_count": null,
   "metadata": {},
   "outputs": [],
   "source": [
    "def plot_fh(history):\n",
    "  # summarize history for loss\n",
    "  plt.plot(history.history['loss'])\n",
    "  plt.plot(history.history['val_loss'])\n",
    "  plt.title('model loss')\n",
    "  plt.ylabel('loss')\n",
    "  plt.xlabel('epoch')\n",
    "  plt.legend(['train', 'val'], loc='upper left')\n",
    "  plt.show()"
   ]
  },
  {
   "cell_type": "code",
   "execution_count": 13,
   "metadata": {},
   "outputs": [],
   "source": [
    "def live_plot(data_dict, figsize=(7,5), title=''):\n",
    "    clear_output(wait=True)\n",
    "    plt.figure(figsize=figsize)\n",
    "    for label,data in data_dict.items():\n",
    "        plt.plot(data, label=label)\n",
    "    plt.title(title)\n",
    "    plt.grid(True)\n",
    "    plt.xlabel('epoch')\n",
    "    plt.legend(loc='center left') # the plot evolves to the right\n",
    "    plt.show();"
   ]
  },
  {
   "cell_type": "code",
   "execution_count": 56,
   "metadata": {},
   "outputs": [],
   "source": [
    "def set_robot_pose(alpha):\n",
    "    cam_p = [0.23, 0.0, 0.67]\n",
    "    # the roll around the X, pitch around Y and yaw around the Z axis\n",
    "\n",
    "    cam_o = r.euler2orn(alpha, np.pi/2, 0)\n",
    "    cam_v, cam_u = r.orn2vu(cam_o)\n",
    "\n",
    "    test_X = np.array([cam_p + cam_o], dtype=np.float32)\n",
    "    pred_phis = model.predict(test_X)\n",
    "    \n",
    "    pred_phis = pred_phis.reshape(-1, 2)\n",
    "    pred_phis = np.append(pred_phis, [pred_phis[-1]], axis=0)    \n",
    "    r.step(pred_phis)\n",
    "    pvu = r.getHeadcamPVU()\n",
    "\n",
    "    r.getCameraImage()\n",
    "    return [cam_p, cam_v, cam_u], pvu, pred_phis.reshape(-1)"
   ]
  },
  {
   "cell_type": "code",
   "execution_count": null,
   "metadata": {},
   "outputs": [],
   "source": [
    "########################################"
   ]
  },
  {
   "cell_type": "code",
   "execution_count": null,
   "metadata": {},
   "outputs": [],
   "source": [
    "X, Y = mk_xy(500000)\n",
    "print(\"Shape of X=%s and Y=%s\" % (X.shape, Y.shape))"
   ]
  },
  {
   "cell_type": "code",
   "execution_count": 60,
   "metadata": {
    "scrolled": true
   },
   "outputs": [],
   "source": [
    "MAX_ALPHA = np.pi/4\n",
    "D_ALPHA = 0.025\n",
    "\n",
    "alpha = -MAX_ALPHA\n",
    "dalpha = D_ALPHA\n",
    "\n",
    "def eval_model(model):\n",
    "    data = collections.defaultdict(list)\n",
    "\n",
    "    for alpha in np.arange(-MAX_ALPHA, MAX_ALPHA+D_ALPHA, D_ALPHA):\n",
    "        pvu0, pvu1, phis = set_robot_pose(alpha)\n",
    "\n",
    "        if False:\n",
    "            data['cam_vx0'].append(pvu0[1][0])\n",
    "            data['cam_vx1'].append(pvu1[1][0])\n",
    "            data['cam_vy0'].append(pvu0[1][1])\n",
    "            data['cam_vy1'].append(pvu1[1][1])\n",
    "            data['cam_vz0'].append(pvu0[1][2])\n",
    "            data['cam_vz1'].append(pvu1[1][2])\n",
    "\n",
    "        if False:\n",
    "            data['cam_ux0'].append(pvu0[2][0])\n",
    "            data['cam_ux1'].append(pvu1[2][0])\n",
    "            data['cam_uy0'].append(pvu0[2][1])\n",
    "            data['cam_uy1'].append(pvu1[2][1])\n",
    "            data['cam_uz0'].append(pvu0[2][2])\n",
    "            data['cam_uz1'].append(pvu1[2][2])\n",
    "\n",
    "        if True:\n",
    "            for i in range(phis.shape[0]-2):\n",
    "                data['phi%d' % i].append(phis[i])\n",
    "\n",
    "        live_plot(data)\n",
    "    return data"
   ]
  },
  {
   "cell_type": "code",
   "execution_count": null,
   "metadata": {
    "scrolled": false
   },
   "outputs": [],
   "source": [
    "hs = dict()\n",
    "\n",
    "for N in [64, 128, 256]:\n",
    "    for L in [2, 4, 8]:\n",
    "        name = 'pose2phis-%d-%d' % (N, L)\n",
    "        print(\"\\n*** %s ***\" % name)\n",
    "\n",
    "        model = mk_model(N, L)\n",
    "        h = model.fit(X, Y, batch_size=128, epochs=15, shuffle=True, validation_split=0.002, verbose=0)\n",
    "        plot_fh(h)\n",
    "\n",
    "        hs[name] = h\n",
    "        model.save(name)"
   ]
  },
  {
   "cell_type": "code",
   "execution_count": 61,
   "metadata": {
    "scrolled": true
   },
   "outputs": [
    {
     "data": {
      "image/png": "[encoded data removed]",
      "text/plain": [
       "<Figure size 504x360 with 1 Axes>"
      ]
     },
     "metadata": {
      "needs_background": "light"
     },
     "output_type": "display_data"
    }
   ],
   "source": [
    "model = tf.keras.models.load_model('pose2phis-128-4')\n",
    "_ = eval_model(model)"
   ]
  },
  {
   "cell_type": "markdown",
   "metadata": {},
   "source": [
    "    Y[:,0] = np.random.uniform(low=-0.6, high=0, size=(M))\n",
    "    Y[:,2] = np.random.uniform(low=0.3, high=0.8, size=(M))\n",
    "    Y[:,4] = np.random.uniform(low=0.3, high=0.8, size=(M))\n",
    "\n",
    "    Y[:,1] = np.random.uniform(low=-0.6, high=0.6, size=(M))\n",
    "    Y[:,3] = np.random.uniform(low=-0.6, high=0.6, size=(M))\n",
    "    Y[:,5] = np.random.uniform(low=-0.6, high=0.6, size=(M))"
   ]
  },
  {
   "cell_type": "code",
   "execution_count": null,
   "metadata": {},
   "outputs": [],
   "source": []
  }
 ],
 "metadata": {
  "kernelspec": {
   "display_name": "Python 3",
   "language": "python",
   "name": "python3"
  },
  "language_info": {
   "codemirror_mode": {
    "name": "ipython",
    "version": 3
   },
   "file_extension": ".py",
   "mimetype": "text/x-python",
   "name": "python",
   "nbconvert_exporter": "python",
   "pygments_lexer": "ipython3",
   "version": "3.7.5"
  }
 },
 "nbformat": 4,
 "nbformat_minor": 4
}
