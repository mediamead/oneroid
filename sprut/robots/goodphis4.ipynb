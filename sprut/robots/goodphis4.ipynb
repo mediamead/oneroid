{
 "cells": [
  {
   "cell_type": "markdown",
   "metadata": {},
   "source": [
    "---"
   ]
  },
  {
   "cell_type": "code",
   "execution_count": 3,
   "metadata": {},
   "outputs": [],
   "source": [
    "import pybullet as p\n",
    "import numpy as np\n",
    "import tensorflow as tf\n",
    "\n",
    "from pybullet_robot import PyBulletRobot, W, H\n",
    "\n",
    "import sys, glob, time\n",
    "import pandas as pd \n",
    "import collections\n",
    "\n",
    "from IPython.display import clear_output\n",
    "from matplotlib import pyplot as plt\n",
    "\n",
    "%matplotlib inline"
   ]
  },
  {
   "cell_type": "code",
   "execution_count": 4,
   "metadata": {},
   "outputs": [],
   "source": [
    "def mk_model(L):\n",
    "    inputs = tf.keras.Input(shape=(9,))\n",
    "    \n",
    "    layer = tf.keras.layers.Dense(64, activation='relu')(inputs)\n",
    "    for _ in range(L):\n",
    "        layer = tf.keras.layers.Dense(64, activation='relu')(layer)\n",
    "    outputs = tf.keras.layers.Dense(8, activation='tanh')(layer)\n",
    "\n",
    "    model = tf.keras.Model(inputs, outputs)\n",
    "    model.compile(loss='mean_squared_error', optimizer='adam', metrics=['mae'])\n",
    "\n",
    "    return model\n",
    "\n",
    "#print(model.summary())"
   ]
  },
  {
   "cell_type": "code",
   "execution_count": 10,
   "metadata": {},
   "outputs": [],
   "source": [
    "def mk_xy(M):\n",
    "    X = np.zeros((M, 9))\n",
    "    Y = np.zeros((M, 8))\n",
    "\n",
    "    Y[:,0] = np.random.uniform(low=-0.6, high=0, size=(M))\n",
    "    Y[:,2] = np.random.uniform(low=0.3, high=0.8, size=(M))\n",
    "    Y[:,4] = Y[:,6] = np.random.uniform(low=0.3, high=0.8, size=(M))\n",
    "\n",
    "    Y[:,1] = np.random.uniform(low=-0.6, high=0.6, size=(M))\n",
    "    Y[:,3] = np.random.uniform(low=-0.6, high=0.6, size=(M))\n",
    "    Y[:,5] = Y[:,7] = np.random.uniform(low=-0.6, high=0.6, size=(M))\n",
    "\n",
    "    for i in range(M):\n",
    "        phis = Y[i,:].reshape(-1, 2)\n",
    "        r.step(phis)\n",
    "        cam_p, cam_v, cam_u = r.getHeadcamPVU()\n",
    "        X[i] = list(cam_p) + list(cam_v) + list(cam_u)\n",
    "    \n",
    "    return X, Y"
   ]
  },
  {
   "cell_type": "code",
   "execution_count": 6,
   "metadata": {},
   "outputs": [],
   "source": [
    "def plot_fh(history):\n",
    "  # summarize history for loss\n",
    "  plt.plot(history.history['loss'])\n",
    "  plt.plot(history.history['val_loss'])\n",
    "  plt.title('model loss')\n",
    "  plt.ylabel('loss')\n",
    "  plt.xlabel('epoch')\n",
    "  plt.legend(['train', 'val'], loc='upper left')\n",
    "  plt.show()"
   ]
  },
  {
   "cell_type": "code",
   "execution_count": 7,
   "metadata": {},
   "outputs": [],
   "source": [
    "def live_plot(data_dict, figsize=(7,5), title=''):\n",
    "    clear_output(wait=True)\n",
    "    plt.figure(figsize=figsize)\n",
    "    for label,data in data_dict.items():\n",
    "        plt.plot(data, label=label)\n",
    "    plt.title(title)\n",
    "    plt.grid(True)\n",
    "    plt.xlabel('epoch')\n",
    "    plt.legend(loc='center left') # the plot evolves to the right\n",
    "    plt.show();"
   ]
  },
  {
   "cell_type": "code",
   "execution_count": 12,
   "metadata": {},
   "outputs": [],
   "source": [
    "def get_headcam_pvu(alpha, beta):\n",
    "    # inclination θ, azimuth φ\n",
    "    theta = np.pi/2 - beta\n",
    "    phi = alpha\n",
    "    cam_vx = np.sin(theta) * np.cos(phi)\n",
    "    cam_vy = np.sin(theta) * np.sin(phi)\n",
    "    cam_vz = np.cos(theta)\n",
    "       \n",
    "    theta = -beta\n",
    "    phi = alpha\n",
    "    cam_ux = np.sin(theta) * np.cos(phi)\n",
    "    cam_uy = np.sin(theta) * np.sin(phi)\n",
    "    cam_uz = np.cos(theta)\n",
    "    \n",
    "    cam_v = [cam_vx, cam_vy, cam_vz]\n",
    "    cam_u = [cam_ux, cam_uy, cam_uz]\n",
    "    cam_p = [0.23, 0.0, 0.67]\n",
    "    \n",
    "    return cam_p, cam_v, cam_u\n",
    "\n",
    "def set_robot_pose(alpha, beta):\n",
    "    cam_p, cam_v, cam_u = get_headcam_pvu(alpha, beta)\n",
    "\n",
    "    test_X = np.array([cam_p + cam_v + cam_u], dtype=np.float32)\n",
    "    pred_phis = model.predict(test_X)\n",
    "    r.step(pred_phis.reshape(-1,2))\n",
    "    pvu = r.getHeadcamPVU()\n",
    "\n",
    "    r.getCameraImage()\n",
    "    return [cam_p, cam_v, cam_u], pvu, pred_phis.reshape(-1)"
   ]
  },
  {
   "cell_type": "code",
   "execution_count": 8,
   "metadata": {},
   "outputs": [],
   "source": [
    "########################################"
   ]
  },
  {
   "cell_type": "code",
   "execution_count": 9,
   "metadata": {},
   "outputs": [
    {
     "name": "stdout",
     "output_type": "stream",
     "text": [
      "*** Initializing PyBulletRobot(ns=4, render=True) ...\n",
      "*** Initializing PyBulletRobot() done\n"
     ]
    }
   ],
   "source": [
    "gui = True\n",
    "r = PyBulletRobot(4, 1, render=gui)"
   ]
  },
  {
   "cell_type": "code",
   "execution_count": 11,
   "metadata": {},
   "outputs": [
    {
     "name": "stdout",
     "output_type": "stream",
     "text": [
      "Shape of X=(500000, 9) and Y=(500000, 8)\n"
     ]
    }
   ],
   "source": [
    "X, Y = mk_xy(500000)\n",
    "print(\"Shape of X=%s and Y=%s\" % (X.shape, Y.shape))"
   ]
  },
  {
   "cell_type": "code",
   "execution_count": 13,
   "metadata": {
    "scrolled": true
   },
   "outputs": [],
   "source": [
    "MAX_ALPHA = np.pi/4\n",
    "D_ALPHA = 0.025\n",
    "\n",
    "alpha = -MAX_ALPHA\n",
    "dalpha = D_ALPHA\n",
    "\n",
    "def eval_model(model):\n",
    "    data = collections.defaultdict(list)\n",
    "\n",
    "    for alpha in np.arange(-MAX_ALPHA, MAX_ALPHA+D_ALPHA, D_ALPHA):\n",
    "        pvu0, pvu1, phis = set_robot_pose(alpha, 0)\n",
    "\n",
    "        if False:\n",
    "            data['cam_vx0'].append(pvu0[1][0])\n",
    "            data['cam_vx1'].append(pvu1[1][0])\n",
    "            data['cam_vy0'].append(pvu0[1][1])\n",
    "            data['cam_vy1'].append(pvu1[1][1])\n",
    "            data['cam_vz0'].append(pvu0[1][2])\n",
    "            data['cam_vz1'].append(pvu1[1][2])\n",
    "\n",
    "        if True:\n",
    "            data['cam_ux0'].append(pvu0[2][0])\n",
    "            data['cam_ux1'].append(pvu1[2][0])\n",
    "            data['cam_uy0'].append(pvu0[2][1])\n",
    "            data['cam_uy1'].append(pvu1[2][1])\n",
    "            data['cam_uz0'].append(pvu0[2][2])\n",
    "            data['cam_uz1'].append(pvu1[2][2])\n",
    "\n",
    "        if False:\n",
    "            for i in range(phis.shape[0]):\n",
    "                data['phi%d' % i].append(phis[i])\n",
    "\n",
    "        live_plot(data)\n",
    "    return data"
   ]
  },
  {
   "cell_type": "code",
   "execution_count": 17,
   "metadata": {
    "scrolled": true
   },
   "outputs": [
    {
     "name": "stdout",
     "output_type": "stream",
     "text": [
      "*** L=1\n",
      "Train on 499000 samples, validate on 1000 samples\n",
      "Epoch 1/10\n",
      "499000/499000 [==============================] - 4s 8us/sample - loss: 0.0164 - mean_absolute_error: 0.0857 - val_loss: 0.0109 - val_mean_absolute_error: 0.0677\n",
      "Epoch 2/10\n",
      "499000/499000 [==============================] - 4s 8us/sample - loss: 0.0093 - mean_absolute_error: 0.0603 - val_loss: 0.0078 - val_mean_absolute_error: 0.0542\n",
      "Epoch 3/10\n",
      "499000/499000 [==============================] - 4s 8us/sample - loss: 0.0075 - mean_absolute_error: 0.0525 - val_loss: 0.0067 - val_mean_absolute_error: 0.0499\n",
      "Epoch 4/10\n",
      "499000/499000 [==============================] - 4s 8us/sample - loss: 0.0067 - mean_absolute_error: 0.0490 - val_loss: 0.0061 - val_mean_absolute_error: 0.0469\n",
      "Epoch 5/10\n",
      "499000/499000 [==============================] - 4s 8us/sample - loss: 0.0062 - mean_absolute_error: 0.0465 - val_loss: 0.0057 - val_mean_absolute_error: 0.0445\n",
      "Epoch 6/10\n",
      "499000/499000 [==============================] - 4s 8us/sample - loss: 0.0058 - mean_absolute_error: 0.0448 - val_loss: 0.0054 - val_mean_absolute_error: 0.0441\n",
      "Epoch 7/10\n",
      "499000/499000 [==============================] - 4s 8us/sample - loss: 0.0055 - mean_absolute_error: 0.0433 - val_loss: 0.0051 - val_mean_absolute_error: 0.0420\n",
      "Epoch 8/10\n",
      "499000/499000 [==============================] - 4s 8us/sample - loss: 0.0053 - mean_absolute_error: 0.0424 - val_loss: 0.0052 - val_mean_absolute_error: 0.0431\n",
      "Epoch 9/10\n",
      "499000/499000 [==============================] - 4s 8us/sample - loss: 0.0052 - mean_absolute_error: 0.0416 - val_loss: 0.0050 - val_mean_absolute_error: 0.0412\n",
      "Epoch 10/10\n",
      "499000/499000 [==============================] - 4s 8us/sample - loss: 0.0051 - mean_absolute_error: 0.0409 - val_loss: 0.0046 - val_mean_absolute_error: 0.0396\n",
      "*** L=2\n",
      "Train on 499000 samples, validate on 1000 samples\n",
      "Epoch 1/10\n",
      "499000/499000 [==============================] - 4s 9us/sample - loss: 0.0136 - mean_absolute_error: 0.0762 - val_loss: 0.0080 - val_mean_absolute_error: 0.0561\n",
      "Epoch 2/10\n",
      "499000/499000 [==============================] - 4s 8us/sample - loss: 0.0071 - mean_absolute_error: 0.0518 - val_loss: 0.0058 - val_mean_absolute_error: 0.0469\n",
      "Epoch 3/10\n",
      "499000/499000 [==============================] - 4s 8us/sample - loss: 0.0057 - mean_absolute_error: 0.0454 - val_loss: 0.0050 - val_mean_absolute_error: 0.0424\n",
      "Epoch 4/10\n",
      "499000/499000 [==============================] - 4s 8us/sample - loss: 0.0051 - mean_absolute_error: 0.0417 - val_loss: 0.0048 - val_mean_absolute_error: 0.0430\n",
      "Epoch 5/10\n",
      "499000/499000 [==============================] - 4s 8us/sample - loss: 0.0047 - mean_absolute_error: 0.0397 - val_loss: 0.0042 - val_mean_absolute_error: 0.0372\n",
      "Epoch 6/10\n",
      "499000/499000 [==============================] - 4s 8us/sample - loss: 0.0044 - mean_absolute_error: 0.0382 - val_loss: 0.0040 - val_mean_absolute_error: 0.0371\n",
      "Epoch 7/10\n",
      "499000/499000 [==============================] - 4s 8us/sample - loss: 0.0042 - mean_absolute_error: 0.0370 - val_loss: 0.0046 - val_mean_absolute_error: 0.0396\n",
      "Epoch 8/10\n",
      "499000/499000 [==============================] - 4s 8us/sample - loss: 0.0041 - mean_absolute_error: 0.0360 - val_loss: 0.0044 - val_mean_absolute_error: 0.0395\n",
      "Epoch 9/10\n",
      "499000/499000 [==============================] - 4s 8us/sample - loss: 0.0040 - mean_absolute_error: 0.0355 - val_loss: 0.0040 - val_mean_absolute_error: 0.0358\n",
      "Epoch 10/10\n",
      "499000/499000 [==============================] - 4s 8us/sample - loss: 0.0039 - mean_absolute_error: 0.0349 - val_loss: 0.0042 - val_mean_absolute_error: 0.0369\n",
      "*** L=3\n",
      "Train on 499000 samples, validate on 1000 samples\n",
      "Epoch 1/10\n",
      "499000/499000 [==============================] - 5s 9us/sample - loss: 0.0143 - mean_absolute_error: 0.0786 - val_loss: 0.0082 - val_mean_absolute_error: 0.0576\n",
      "Epoch 2/10\n",
      "499000/499000 [==============================] - 5s 9us/sample - loss: 0.0067 - mean_absolute_error: 0.0505 - val_loss: 0.0055 - val_mean_absolute_error: 0.0469\n",
      "Epoch 3/10\n",
      "499000/499000 [==============================] - 4s 9us/sample - loss: 0.0052 - mean_absolute_error: 0.0429 - val_loss: 0.0047 - val_mean_absolute_error: 0.0409\n",
      "Epoch 4/10\n",
      "499000/499000 [==============================] - 4s 9us/sample - loss: 0.0046 - mean_absolute_error: 0.0401 - val_loss: 0.0048 - val_mean_absolute_error: 0.0430\n",
      "Epoch 5/10\n",
      "499000/499000 [==============================] - 4s 9us/sample - loss: 0.0043 - mean_absolute_error: 0.0379 - val_loss: 0.0042 - val_mean_absolute_error: 0.0392\n",
      "Epoch 6/10\n",
      "499000/499000 [==============================] - 4s 9us/sample - loss: 0.0041 - mean_absolute_error: 0.0367 - val_loss: 0.0039 - val_mean_absolute_error: 0.0352\n",
      "Epoch 7/10\n",
      "499000/499000 [==============================] - 4s 9us/sample - loss: 0.0040 - mean_absolute_error: 0.0358 - val_loss: 0.0037 - val_mean_absolute_error: 0.0332\n",
      "Epoch 8/10\n",
      "499000/499000 [==============================] - 4s 9us/sample - loss: 0.0038 - mean_absolute_error: 0.0350 - val_loss: 0.0036 - val_mean_absolute_error: 0.0334\n",
      "Epoch 9/10\n",
      "499000/499000 [==============================] - 4s 9us/sample - loss: 0.0037 - mean_absolute_error: 0.0343 - val_loss: 0.0042 - val_mean_absolute_error: 0.0385\n",
      "Epoch 10/10\n",
      "499000/499000 [==============================] - 4s 9us/sample - loss: 0.0037 - mean_absolute_error: 0.0338 - val_loss: 0.0039 - val_mean_absolute_error: 0.0369\n",
      "*** L=4\n",
      "Train on 499000 samples, validate on 1000 samples\n",
      "Epoch 1/10\n",
      "499000/499000 [==============================] - 5s 10us/sample - loss: 0.0145 - mean_absolute_error: 0.0785 - val_loss: 0.0077 - val_mean_absolute_error: 0.0553\n",
      "Epoch 2/10\n",
      "499000/499000 [==============================] - 5s 10us/sample - loss: 0.0062 - mean_absolute_error: 0.0481 - val_loss: 0.0052 - val_mean_absolute_error: 0.0431\n",
      "Epoch 3/10\n",
      "499000/499000 [==============================] - 5s 10us/sample - loss: 0.0048 - mean_absolute_error: 0.0412 - val_loss: 0.0042 - val_mean_absolute_error: 0.0380\n",
      "Epoch 4/10\n",
      "499000/499000 [==============================] - 5s 10us/sample - loss: 0.0043 - mean_absolute_error: 0.0383 - val_loss: 0.0042 - val_mean_absolute_error: 0.0366\n",
      "Epoch 5/10\n",
      "499000/499000 [==============================] - 5s 10us/sample - loss: 0.0041 - mean_absolute_error: 0.0369 - val_loss: 0.0045 - val_mean_absolute_error: 0.0379\n",
      "Epoch 6/10\n",
      "499000/499000 [==============================] - 5s 10us/sample - loss: 0.0039 - mean_absolute_error: 0.0358 - val_loss: 0.0037 - val_mean_absolute_error: 0.0340\n",
      "Epoch 7/10\n",
      "499000/499000 [==============================] - 5s 10us/sample - loss: 0.0038 - mean_absolute_error: 0.0351 - val_loss: 0.0042 - val_mean_absolute_error: 0.0370\n",
      "Epoch 8/10\n",
      "499000/499000 [==============================] - 5s 10us/sample - loss: 0.0037 - mean_absolute_error: 0.0343 - val_loss: 0.0034 - val_mean_absolute_error: 0.0326\n",
      "Epoch 9/10\n",
      "499000/499000 [==============================] - 5s 10us/sample - loss: 0.0036 - mean_absolute_error: 0.0339 - val_loss: 0.0033 - val_mean_absolute_error: 0.0321\n",
      "Epoch 10/10\n",
      "499000/499000 [==============================] - 5s 10us/sample - loss: 0.0036 - mean_absolute_error: 0.0334 - val_loss: 0.0036 - val_mean_absolute_error: 0.0332\n"
     ]
    }
   ],
   "source": [
    "hs = dict()\n",
    "\n",
    "for L in range(1, 5):\n",
    "    print(\"*** L=%d\" % (L))\n",
    "    \n",
    "    model = mk_model(L)\n",
    "    h = model.fit(X, Y, batch_size=256, epochs=10, shuffle=True, validation_split=0.002)\n",
    "    \n",
    "    hs[L] = h\n",
    "    model.save('pose2phis-%d' % L)"
   ]
  },
  {
   "cell_type": "code",
   "execution_count": 19,
   "metadata": {},
   "outputs": [
    {
     "data": {
      "image/png": "[encoded data removed]",
      "text/plain": [
       "<Figure size 504x360 with 1 Axes>"
      ]
     },
     "metadata": {
      "needs_background": "light"
     },
     "output_type": "display_data"
    }
   ],
   "source": [
    "for L in range(1, 5):\n",
    "    print(\"*** L=%d\" % (L))\n",
    "    model = tf.keras.models.load_model('pose2phis-%d' % L)\n",
    "    eval_model(model)"
   ]
  },
  {
   "cell_type": "code",
   "execution_count": null,
   "metadata": {},
   "outputs": [],
   "source": []
  }
 ],
 "metadata": {
  "kernelspec": {
   "display_name": "Python 3",
   "language": "python",
   "name": "python3"
  },
  "language_info": {
   "codemirror_mode": {
    "name": "ipython",
    "version": 3
   },
   "file_extension": ".py",
   "mimetype": "text/x-python",
   "name": "python",
   "nbconvert_exporter": "python",
   "pygments_lexer": "ipython3",
   "version": "3.6.10"
  }
 },
 "nbformat": 4,
 "nbformat_minor": 4
}
