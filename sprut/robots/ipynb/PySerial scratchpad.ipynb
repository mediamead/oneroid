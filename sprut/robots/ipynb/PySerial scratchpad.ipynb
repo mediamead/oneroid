{
 "cells": [
  {
   "cell_type": "code",
   "execution_count": 4,
   "metadata": {},
   "outputs": [],
   "source": [
    "import serial"
   ]
  },
  {
   "cell_type": "code",
   "execution_count": 5,
   "metadata": {},
   "outputs": [],
   "source": [
    "from serial.tools.list_ports import comports"
   ]
  },
  {
   "cell_type": "code",
   "execution_count": 12,
   "metadata": {},
   "outputs": [
    {
     "name": "stdout",
     "output_type": "stream",
     "text": [
      "(1, ('/dev/cu.Bluetooth-Incoming-Port', 'n/a', 'n/a'))\n",
      "(2, ('/dev/cu.F900MusicPlay-COM3', 'n/a', 'n/a'))\n",
      "(3, ('/dev/cu.MALS', 'n/a', 'n/a'))\n",
      "(4, ('/dev/cu.SOC', 'n/a', 'n/a'))\n"
     ]
    }
   ],
   "source": [
    "for n, (port, desc, hwid) in enumerate(sorted(comports()), 1):\n",
    "    print('%s' % str((n, (port, desc, hwid))))\n"
   ]
  },
  {
   "cell_type": "code",
   "execution_count": null,
   "metadata": {},
   "outputs": [],
   "source": []
  }
 ],
 "metadata": {
  "kernelspec": {
   "display_name": "Python 3",
   "language": "python",
   "name": "python3"
  },
  "language_info": {
   "codemirror_mode": {
    "name": "ipython",
    "version": 3
   },
   "file_extension": ".py",
   "mimetype": "text/x-python",
   "name": "python",
   "nbconvert_exporter": "python",
   "pygments_lexer": "ipython3",
   "version": "3.7.5"
  }
 },
 "nbformat": 4,
 "nbformat_minor": 2
}
