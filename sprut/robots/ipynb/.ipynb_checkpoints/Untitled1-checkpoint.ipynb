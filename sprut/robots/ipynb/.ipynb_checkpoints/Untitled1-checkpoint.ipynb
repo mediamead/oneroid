{
 "cells": [
  {
   "cell_type": "code",
   "execution_count": 4,
   "metadata": {},
   "outputs": [
    {
     "ename": "NameError",
     "evalue": "name 'p' is not defined",
     "output_type": "error",
     "traceback": [
      "\u001b[0;31m---------------------------------------------------------------------------\u001b[0m",
      "\u001b[0;31mNameError\u001b[0m                                 Traceback (most recent call last)",
      "\u001b[0;32m<ipython-input-4-26237764f139>\u001b[0m in \u001b[0;36m<module>\u001b[0;34m\u001b[0m\n\u001b[1;32m     46\u001b[0m                 \u001b[0;32myield\u001b[0m \u001b[0;34m[\u001b[0m\u001b[0mphi\u001b[0m\u001b[0;34m,\u001b[0m \u001b[0mR\u001b[0m\u001b[0;34m,\u001b[0m \u001b[0mdphi\u001b[0m\u001b[0;34m]\u001b[0m\u001b[0;34m.\u001b[0m\u001b[0mflatten\u001b[0m\u001b[0;34m(\u001b[0m\u001b[0;34m)\u001b[0m\u001b[0;34m\u001b[0m\u001b[0;34m\u001b[0m\u001b[0m\n\u001b[1;32m     47\u001b[0m \u001b[0;34m\u001b[0m\u001b[0m\n\u001b[0;32m---> 48\u001b[0;31m \u001b[0mtrain_data\u001b[0m \u001b[0;34m=\u001b[0m \u001b[0mlist\u001b[0m\u001b[0;34m(\u001b[0m\u001b[0mgen_phi_r_dphi\u001b[0m\u001b[0;34m(\u001b[0m\u001b[0;36m100\u001b[0m\u001b[0;34m)\u001b[0m\u001b[0;34m)\u001b[0m\u001b[0;34m\u001b[0m\u001b[0;34m\u001b[0m\u001b[0m\n\u001b[0m\u001b[1;32m     49\u001b[0m \u001b[0mtest_data\u001b[0m \u001b[0;34m=\u001b[0m \u001b[0mlist\u001b[0m\u001b[0;34m(\u001b[0m\u001b[0mgen_phi_r_dphi\u001b[0m\u001b[0;34m(\u001b[0m\u001b[0;36m33\u001b[0m\u001b[0;34m)\u001b[0m\u001b[0;34m)\u001b[0m\u001b[0;34m\u001b[0m\u001b[0;34m\u001b[0m\u001b[0m\n\u001b[1;32m     50\u001b[0m \u001b[0;34m\u001b[0m\u001b[0m\n",
      "\u001b[0;32m<ipython-input-4-26237764f139>\u001b[0m in \u001b[0;36mgen_phi_r_dphi\u001b[0;34m(N, MIN_PHI, MAX_PHI, DPHI)\u001b[0m\n\u001b[1;32m     40\u001b[0m             \u001b[0mphi\u001b[0m \u001b[0;34m=\u001b[0m \u001b[0;34m[\u001b[0m\u001b[0mphi1\u001b[0m\u001b[0;34m,\u001b[0m \u001b[0mphi2\u001b[0m\u001b[0;34m]\u001b[0m\u001b[0;34m\u001b[0m\u001b[0;34m\u001b[0m\u001b[0m\n\u001b[1;32m     41\u001b[0m             \u001b[0;32mfor\u001b[0m \u001b[0mR\u001b[0m \u001b[0;32min\u001b[0m \u001b[0mR_range33\u001b[0m\u001b[0;34m:\u001b[0m\u001b[0;34m\u001b[0m\u001b[0;34m\u001b[0m\u001b[0m\n\u001b[0;32m---> 42\u001b[0;31m                 \u001b[0;34m(\u001b[0m\u001b[0mp\u001b[0m\u001b[0;34m,\u001b[0m \u001b[0mv\u001b[0m\u001b[0;34m)\u001b[0m \u001b[0;34m=\u001b[0m \u001b[0mget_pv\u001b[0m\u001b[0;34m(\u001b[0m\u001b[0mphi\u001b[0m\u001b[0;34m)\u001b[0m\u001b[0;34m\u001b[0m\u001b[0;34m\u001b[0m\u001b[0m\n\u001b[0m\u001b[1;32m     43\u001b[0m                 \u001b[0mv1\u001b[0m \u001b[0;34m=\u001b[0m \u001b[0mR\u001b[0m \u001b[0;34m*\u001b[0m \u001b[0mv\u001b[0m\u001b[0;34m\u001b[0m\u001b[0;34m\u001b[0m\u001b[0m\n\u001b[1;32m     44\u001b[0m                 \u001b[0mdphi\u001b[0m \u001b[0;34m=\u001b[0m \u001b[0mget_dphi\u001b[0m\u001b[0;34m(\u001b[0m\u001b[0mphi\u001b[0m\u001b[0;34m,\u001b[0m \u001b[0mv1\u001b[0m\u001b[0;34m)\u001b[0m\u001b[0;34m\u001b[0m\u001b[0;34m\u001b[0m\u001b[0m\n",
      "\u001b[0;32m<ipython-input-4-26237764f139>\u001b[0m in \u001b[0;36mget_pv\u001b[0;34m(phi)\u001b[0m\n\u001b[1;32m      2\u001b[0m \u001b[0;34m\u001b[0m\u001b[0m\n\u001b[1;32m      3\u001b[0m \u001b[0;32mdef\u001b[0m \u001b[0mget_pv\u001b[0m\u001b[0;34m(\u001b[0m\u001b[0mphi\u001b[0m\u001b[0;34m)\u001b[0m\u001b[0;34m:\u001b[0m\u001b[0;34m\u001b[0m\u001b[0;34m\u001b[0m\u001b[0m\n\u001b[0;32m----> 4\u001b[0;31m     \u001b[0;32mreturn\u001b[0m \u001b[0mp\u001b[0m\u001b[0;34m,\u001b[0m \u001b[0mv\u001b[0m\u001b[0;34m\u001b[0m\u001b[0;34m\u001b[0m\u001b[0m\n\u001b[0m\u001b[1;32m      5\u001b[0m \u001b[0;34m\u001b[0m\u001b[0m\n\u001b[1;32m      6\u001b[0m \u001b[0;32mdef\u001b[0m \u001b[0mget_phi_r_dphi\u001b[0m\u001b[0;34m(\u001b[0m\u001b[0mphi\u001b[0m\u001b[0;34m,\u001b[0m \u001b[0mR\u001b[0m\u001b[0;34m)\u001b[0m\u001b[0;34m:\u001b[0m\u001b[0;34m\u001b[0m\u001b[0;34m\u001b[0m\u001b[0m\n",
      "\u001b[0;31mNameError\u001b[0m: name 'p' is not defined"
     ]
    }
   ],
   "source": [
    "import numpy as np\n",
    "\n",
    "NS=2\n",
    "\n",
    "def mk_model():\n",
    "    phis = tf.Placeholder()\n",
    "    cost1 = ... v1 - v\n",
    "    opt1 = ... cost1 ...\n",
    "    return {'phis': phis, 'p': p, 'v': v, 'opt': opt, 'cost': cost}\n",
    "\n",
    "m = mk_model()\n",
    "sess = tf.Session()\n",
    "\n",
    "def get_pv(phis):\n",
    "    p, v = sess.run(\n",
    "        [m['p'], m['v']],\n",
    "        feed_dict={m['phis']: phis})\n",
    "    return p, v\n",
    "\n",
    "def get_dphis(phis, v1, COST_THRESHOLD=1e-3):\n",
    "    m['v_phis'].assign(phis)\n",
    "    \n",
    "    while True:\n",
    "        _, c, _p, _v, phis1 = sess.train(\n",
    "            [m['opt1'], m['cost1'], m['p'], m['v'], m['phi']],\n",
    "            feed_dict={m['phis']: v_phis, m['v1']})\n",
    "        if c <= COST_THRESHOLD:\n",
    "            break\n",
    "        \n",
    "    return phis1 - phis\n",
    "\n",
    "def _get_rotation_matrix(beta, gamma):    \n",
    "    sin_beta = np.sin(beta)\n",
    "    sin_gamma = np.sin(gamma)\n",
    "    cos_beta = np.cos(beta)\n",
    "    cos_gamma = np.cos(gamma)\n",
    "    \n",
    "    Ry = np.array([[cos_beta, 0., sin_beta], [0., 1., 0.], [-sin_beta, 0, cos_beta]])\n",
    "    Rx = np.array([[1., 0., 0.], [0., cos_gamma, -sin_gamma], [0., sin_gamma, cos_gamma]])\n",
    "    return Ry*Rx\n",
    "\n",
    "def _gen_R_range33(DPHI):\n",
    "    for r1 in [-1., 0., 1.]:\n",
    "        for r2 in [-1., 0., 1.]:\n",
    "            if r1 == 0 and r2 == 0:\n",
    "                continue # skip middle point\n",
    "            yield _get_rotation_matrix(DPHI*r1, DPHI*r2)\n",
    "\n",
    "def gen_phis_r_dphis(N, MIN_PHI=-np.pi/8, MAX_PHI=np.pi/8, DPHI=np.pi/40):\n",
    "    \"\"\"\n",
    "        Sweeps through 2 angles, N steps in total\n",
    "        Sweeps through 8 possible rotation matrice (corresponding to 8 directions in 2D, middle zero point excluded)\n",
    "        Total number of samples - N * N * 8\n",
    "        Calculate dphi1, phi2 effectively rotating v (corresponding to phi1, phi2) with given rotation matrix\n",
    "        [phi1, phi2, R11, R12, R13, R21, ..., R33, dphi1, dphi2]\n",
    "    \"\"\"\n",
    "    phi_range = np.arange(MIN_PHI, MAX_PHI, (MAX_PHI-MIN_PHI)/N)\n",
    "    R_range33 = _gen_R_range33(DPHI)\n",
    "    \n",
    "    for phi1 in phi_range:\n",
    "        for phi2 in phi_range:\n",
    "            phis = [phi1, phi2]\n",
    "            for R in R_range33:\n",
    "                (p, v) = get_pv(phis)\n",
    "                v1 = R * v\n",
    "                dphis = get_dphis(phis, v1)\n",
    "                yield [phi, R, dphis].flatten()\n",
    "                \n",
    "train_data = list(gen_phis_r_dphis(100))\n",
    "test_data = list(gen_phis_r_dphis(33))\n",
    "\n",
    "print(\"train_data length=%d\" % len(train_data))\n",
    "print(\"test_data lenngh=%d\" % len(test_data))"
   ]
  },
  {
   "cell_type": "code",
   "execution_count": null,
   "metadata": {},
   "outputs": [],
   "source": []
  },
  {
   "cell_type": "code",
   "execution_count": null,
   "metadata": {},
   "outputs": [],
   "source": []
  }
 ],
 "metadata": {
  "kernelspec": {
   "display_name": "Python 3",
   "language": "python",
   "name": "python3"
  },
  "language_info": {
   "codemirror_mode": {
    "name": "ipython",
    "version": 3
   },
   "file_extension": ".py",
   "mimetype": "text/x-python",
   "name": "python",
   "nbconvert_exporter": "python",
   "pygments_lexer": "ipython3",
   "version": "3.7.5"
  }
 },
 "nbformat": 4,
 "nbformat_minor": 2
}
