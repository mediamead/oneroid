{
 "cells": [
  {
   "cell_type": "markdown",
   "metadata": {},
   "source": [
    "Flex all X-axes joints of the robox."
   ]
  },
  {
   "cell_type": "code",
   "execution_count": 2,
   "metadata": {},
   "outputs": [],
   "source": [
    "from matplotlib import pyplot as plt\n",
    "%matplotlib inline\n",
    "%load_ext autoreload\n",
    "%autoreload 2"
   ]
  },
  {
   "cell_type": "code",
   "execution_count": 3,
   "metadata": {
    "colab": {},
    "colab_type": "code",
    "id": "sSU0OmH8Iino"
   },
   "outputs": [],
   "source": [
    "import os, sys\n",
    "from os.path import dirname\n",
    "sys.path.append(os.path.join(os.getcwd(), '..'))"
   ]
  },
  {
   "cell_type": "code",
   "execution_count": 4,
   "metadata": {
    "colab": {},
    "colab_type": "code",
    "id": "PL8wjAZvRmAI"
   },
   "outputs": [],
   "source": [
    "import cv2\n",
    "import pybullet as p\n",
    "import numpy as np\n",
    "import pylab\n",
    "\n",
    "from opencv.opencv_tools import save\n",
    "from pyb.pybullet_robot import PyBulletRobot"
   ]
  },
  {
   "cell_type": "code",
   "execution_count": 5,
   "metadata": {
    "colab": {
     "base_uri": "https://localhost:8080/",
     "height": 50
    },
    "colab_type": "code",
    "id": "WIV_SwzzRIsQ",
    "outputId": "53b73d97-31d5-4479-a012-0cd72f550be8"
   },
   "outputs": [
    {
     "name": "stdout",
     "output_type": "stream",
     "text": [
      "*** Initializing PyBulletRobot(ns=4, render=True) ...\n",
      "*** Initializing PyBulletRobot() done\n"
     ]
    }
   ],
   "source": [
    "r = PyBulletRobot(render=True)"
   ]
  },
  {
   "cell_type": "code",
   "execution_count": 6,
   "metadata": {
    "colab": {
     "base_uri": "https://localhost:8080/",
     "height": 175
    },
    "colab_type": "code",
    "id": "roSya8wCHE-1",
    "outputId": "9e21c718-609a-4057-a26c-8408caee6013"
   },
   "outputs": [],
   "source": [
    "from opencv.opencv_pose import Pose\n",
    "pose = Pose(r.W, r.H, '../pyb/cal.npz', r.D)"
   ]
  },
  {
   "cell_type": "code",
   "execution_count": 14,
   "metadata": {},
   "outputs": [
    {
     "name": "stdout",
     "output_type": "stream",
     "text": [
      "first_phi: 0.324631\n",
      "last_phi: 0.439823\n",
      "(12, 3)\n"
     ]
    }
   ],
   "source": [
    "phiss, camps, tvecs = [], [], []\n",
    "\n",
    "PHIX_LOW, PHIX_HIGH = np.pi/12, np.pi/6\n",
    "DPHI = (PHIX_HIGH - PHIX_LOW) / 25\n",
    "\n",
    "first_phi, last_phi = None, None\n",
    "\n",
    "def rstep_1x(phix):\n",
    "    phis = np.array([[phix, 0], [phix, 0], [phix, 0], [phix, 0]])\n",
    "    r.step(phis)\n",
    "    return phis\n",
    "    \n",
    "for phix in np.arange(PHIX_LOW, PHIX_HIGH+DPHI, DPHI):\n",
    "    phis = rstep_1x(phix)                  \n",
    "    img, cam_p, _, _, _ = r.getHeadcam()\n",
    "    retval, rvec, tvec, _ = pose.findChessboardRTVecs(img)\n",
    "    if retval:\n",
    "        camps.append(cam_p)\n",
    "        tvecs.append(tvec)\n",
    "        phiss.append(phis)\n",
    "        \n",
    "        if first_phi is None:\n",
    "            first_phi = last_phi = phix\n",
    "            print(\"first_phi: %f\" % first_phi)\n",
    "        elif last_phi < phix:\n",
    "            last_phi = phix\n",
    "            \n",
    "print(\"last_phi: %f\" % last_phi)\n",
    "\n",
    "\n",
    "phiss = np.array(phiss)\n",
    "camps = np.array(camps)\n",
    "tvecs = np.array(tvecs)\n",
    "print(camps.shape)"
   ]
  },
  {
   "cell_type": "markdown",
   "metadata": {},
   "source": [
    "#### head moves down on Z world axis"
   ]
  },
  {
   "cell_type": "code",
   "execution_count": 15,
   "metadata": {
    "scrolled": true
   },
   "outputs": [
    {
     "data": {
      "text/plain": [
       "[<matplotlib.lines.Line2D at 0x128d07748>]"
      ]
     },
     "execution_count": 15,
     "metadata": {},
     "output_type": "execute_result"
    },
    {
     "data": {
      "image/png": "[encoded data removed]",
      "text/plain": [
       "<Figure size 432x288 with 1 Axes>"
      ]
     },
     "metadata": {
      "needs_background": "light"
     },
     "output_type": "display_data"
    }
   ],
   "source": [
    "plt.plot(camps[:,2], 'g.')"
   ]
  },
  {
   "cell_type": "markdown",
   "metadata": {},
   "source": [
    "#### target Y component of translation vector sweeps from 0.6 to -0.6"
   ]
  },
  {
   "cell_type": "code",
   "execution_count": 19,
   "metadata": {},
   "outputs": [
    {
     "data": {
      "text/plain": [
       "[<matplotlib.lines.Line2D at 0x12ca627f0>,\n",
       " <matplotlib.lines.Line2D at 0x12ca628d0>]"
      ]
     },
     "execution_count": 19,
     "metadata": {},
     "output_type": "execute_result"
    },
    {
     "data": {
      "image/png": "[encoded data removed]",
      "text/plain": [
       "<Figure size 432x288 with 1 Axes>"
      ]
     },
     "metadata": {
      "needs_background": "light"
     },
     "output_type": "display_data"
    }
   ],
   "source": [
    "plt.plot(camps[:,2], 'g.', tvecs[:,1], 'r.')"
   ]
  },
  {
   "cell_type": "markdown",
   "metadata": {},
   "source": [
    "#### headcam sways horizontally a tiny bit"
   ]
  },
  {
   "cell_type": "code",
   "execution_count": 20,
   "metadata": {},
   "outputs": [
    {
     "data": {
      "text/plain": [
       "[<matplotlib.lines.Line2D at 0x12ca93400>,\n",
       " <matplotlib.lines.Line2D at 0x12ca93b00>]"
      ]
     },
     "execution_count": 20,
     "metadata": {},
     "output_type": "execute_result"
    },
    {
     "data": {
      "image/png": "[encoded data removed]",
      "text/plain": [
       "<Figure size 432x288 with 1 Axes>"
      ]
     },
     "metadata": {
      "needs_background": "light"
     },
     "output_type": "display_data"
    }
   ],
   "source": [
    "plt.plot(camps[:,1], 'g.', tvecs[:,0], 'r.')"
   ]
  },
  {
   "cell_type": "markdown",
   "metadata": {},
   "source": [
    "#### headcam gets closer to the target"
   ]
  },
  {
   "cell_type": "code",
   "execution_count": 29,
   "metadata": {},
   "outputs": [],
   "source": [
    "camds = []\n",
    "for cam_p in camps:\n",
    "    cam_d = np.sqrt(np.sum(np.square(np.array(cam_p) - np.array([2, 0, 0.59])), axis=0))\n",
    "    camds.append(cam_d)\n",
    "camds = np.array(camds)"
   ]
  },
  {
   "cell_type": "code",
   "execution_count": 30,
   "metadata": {},
   "outputs": [],
   "source": [
    "tvecds = np.sqrt(np.sum(np.square(tvecs), axis=1)).ravel()"
   ]
  },
  {
   "cell_type": "code",
   "execution_count": 31,
   "metadata": {},
   "outputs": [
    {
     "data": {
      "text/plain": [
       "[<matplotlib.lines.Line2D at 0x12cdaf518>,\n",
       " <matplotlib.lines.Line2D at 0x12cdaf630>]"
      ]
     },
     "execution_count": 31,
     "metadata": {},
     "output_type": "execute_result"
    },
    {
     "data": {
      "image/png": "[encoded data removed]",
      "text/plain": [
       "<Figure size 432x288 with 1 Axes>"
      ]
     },
     "metadata": {
      "needs_background": "light"
     },
     "output_type": "display_data"
    }
   ],
   "source": [
    "plt.plot(camds, 'g', tvecds, 'r')"
   ]
  },
  {
   "cell_type": "code",
   "execution_count": 32,
   "metadata": {},
   "outputs": [
    {
     "data": {
      "text/plain": [
       "array([1.41940687, 1.40790607, 1.39807363, 1.38775289, 1.37865122,\n",
       "       1.36869184, 1.36298814, 1.35461262, 1.34973841, 1.34512216,\n",
       "       1.34077017, 1.33685953])"
      ]
     },
     "execution_count": 32,
     "metadata": {},
     "output_type": "execute_result"
    }
   ],
   "source": [
    "tvecds"
   ]
  },
  {
   "cell_type": "code",
   "execution_count": 33,
   "metadata": {},
   "outputs": [
    {
     "data": {
      "text/plain": [
       "[<matplotlib.lines.Line2D at 0x12ce06c88>]"
      ]
     },
     "execution_count": 33,
     "metadata": {},
     "output_type": "execute_result"
    },
    {
     "data": {
      "image/png": "[encoded data removed]",
      "text/plain": [
       "<Figure size 432x288 with 1 Axes>"
      ]
     },
     "metadata": {
      "needs_background": "light"
     },
     "output_type": "display_data"
    }
   ],
   "source": [
    "plt.plot(camds - tvecds, 'b')"
   ]
  },
  {
   "cell_type": "markdown",
   "metadata": {},
   "source": [
    "####  Z component of translation vector reaches it peak and goes away"
   ]
  },
  {
   "cell_type": "code",
   "execution_count": 35,
   "metadata": {},
   "outputs": [
    {
     "data": {
      "text/plain": [
       "[<matplotlib.lines.Line2D at 0x12d65b6a0>]"
      ]
     },
     "execution_count": 35,
     "metadata": {},
     "output_type": "execute_result"
    },
    {
     "data": {
      "image/png": "[encoded data removed]",
      "text/plain": [
       "<Figure size 432x288 with 1 Axes>"
      ]
     },
     "metadata": {
      "needs_background": "light"
     },
     "output_type": "display_data"
    }
   ],
   "source": [
    "plt.plot(tvecs[:,2], 'r.')"
   ]
  },
  {
   "cell_type": "code",
   "execution_count": 36,
   "metadata": {},
   "outputs": [
    {
     "name": "stdout",
     "output_type": "stream",
     "text": [
      "*** PyBulletRobot() closed ***\n"
     ]
    }
   ],
   "source": [
    "r.close()"
   ]
  },
  {
   "cell_type": "code",
   "execution_count": null,
   "metadata": {},
   "outputs": [],
   "source": []
  }
 ],
 "metadata": {
  "colab": {
   "name": "mk_cal_images.ipynb",
   "provenance": []
  },
  "kernelspec": {
   "display_name": "Python 3",
   "language": "python",
   "name": "python3"
  },
  "language_info": {
   "codemirror_mode": {
    "name": "ipython",
    "version": 3
   },
   "file_extension": ".py",
   "mimetype": "text/x-python",
   "name": "python",
   "nbconvert_exporter": "python",
   "pygments_lexer": "ipython3",
   "version": "3.6.10"
  }
 },
 "nbformat": 4,
 "nbformat_minor": 1
}
