{
 "cells": [
  {
   "cell_type": "markdown",
   "metadata": {},
   "source": [
    "Flex all X-axes joints of the robox."
   ]
  },
  {
   "cell_type": "code",
   "execution_count": 1,
   "metadata": {},
   "outputs": [],
   "source": [
    "from matplotlib import pyplot as plt\n",
    "%matplotlib inline\n",
    "%load_ext autoreload\n",
    "%autoreload 2"
   ]
  },
  {
   "cell_type": "code",
   "execution_count": 2,
   "metadata": {
    "colab": {},
    "colab_type": "code",
    "id": "sSU0OmH8Iino"
   },
   "outputs": [],
   "source": [
    "import os, sys\n",
    "from os.path import dirname\n",
    "sys.path.append(os.path.join(os.getcwd(), '..'))"
   ]
  },
  {
   "cell_type": "code",
   "execution_count": 21,
   "metadata": {
    "colab": {},
    "colab_type": "code",
    "id": "PL8wjAZvRmAI"
   },
   "outputs": [],
   "source": [
    "import cv2\n",
    "import pybullet as p\n",
    "import numpy as np\n",
    "import pylab\n",
    "\n",
    "from opencv.opencv_tools import save\n",
    "from pyb.pybullet_robot import PyBulletRobot\n",
    "from opencv.opencv_pose import Pose\n",
    "from phy.phy_robot import PhyRobot"
   ]
  },
  {
   "cell_type": "code",
   "execution_count": 61,
   "metadata": {
    "colab": {
     "base_uri": "https://localhost:8080/",
     "height": 50
    },
    "colab_type": "code",
    "id": "WIV_SwzzRIsQ",
    "outputId": "53b73d97-31d5-4479-a012-0cd72f550be8"
   },
   "outputs": [
    {
     "name": "stdout",
     "output_type": "stream",
     "text": [
      "*** Initializing PyBulletRobot(ns=4, render=True) ...\n",
      "*** Initializing PyBulletRobot() done\n"
     ]
    }
   ],
   "source": [
    "vr = PyBulletRobot(render=True)"
   ]
  },
  {
   "cell_type": "code",
   "execution_count": 62,
   "metadata": {},
   "outputs": [],
   "source": [
    "def phis_1x(phix):\n",
    "    phis = np.array([[phix, 0], [phix, 0], [phix, 0], [phix, 0]])\n",
    "    return phis\n",
    "\n",
    "def vr_sweep(phixs):\n",
    "    phiss, camps, tvecs, rvecs = [], [], [], []\n",
    "\n",
    "    first_phi, last_phi = None, None\n",
    "    vpose = Pose(vr.W, vr.H, '../pyb/cal.npz', vr.D)\n",
    "\n",
    "    for phix in phixs:\n",
    "        phis = phis_1x(phix)                  \n",
    "        vr.step(phis)\n",
    "        img, cam_p, _, _, _ = vr.getHeadcam()\n",
    "        retval, rvec, tvec, _ = vpose.findChessboardRTVecs(img)\n",
    "        if retval:\n",
    "            camps.append(cam_p)\n",
    "            tvecs.append(tvec)\n",
    "            rvecs.append(rvec)\n",
    "            phiss.append(phis)\n",
    "\n",
    "            if first_phi is None:\n",
    "                first_phi = last_phi = phix\n",
    "                print(\"vr first_phi: %f\" % first_phi)\n",
    "            elif last_phi < phix:\n",
    "                last_phi = phix\n",
    "\n",
    "    print(\"vr last_phi: %f\" % last_phi)\n",
    "\n",
    "    phiss = np.array(phiss)\n",
    "    camps = np.array(camps)\n",
    "    rvecs = np.array(rvecs)\n",
    "    tvecs = np.array(tvecs)\n",
    "\n",
    "    return phiss, camps, tvecs, rvecs\n",
    "\n",
    "\n",
    "def rr_sweep(phixs):\n",
    "    phiss, tvecs, rvecs = [], [], []\n",
    "\n",
    "    PHIX_LOW, PHIX_HIGH = np.pi/12, np.pi/6\n",
    "    DPHI = (PHIX_HIGH - PHIX_LOW) / 25\n",
    "\n",
    "    first_phi, last_phi = None, None\n",
    "    vpose = Pose(rr.W, rr.H, '../phy/cal.npz', rr.D)\n",
    "\n",
    "    for phix in phixs:\n",
    "        print(\"phix=%s\" % phix)\n",
    "        phis = phis_1x(phix)                  \n",
    "        rr.step(phis)\n",
    "        \n",
    "        img, _, _, _, _ = rr.getHeadcam()\n",
    "        retval, rvec, tvec, _ = vpose.findChessboardRTVecs(img)\n",
    "        if retval:\n",
    "            phiss.append(phis)\n",
    "            rvecs.append(rvec)\n",
    "            tvecs.append(tvec)\n",
    "\n",
    "            if first_phi is None:\n",
    "                first_phi = last_phi = phix\n",
    "                print(\"rr first_phi: %f\" % first_phi)\n",
    "            elif last_phi < phix:\n",
    "                last_phi = phix\n",
    "\n",
    "    print(\"rr last_phi: %s\" % last_phi)\n",
    "\n",
    "\n",
    "    phiss = np.array(phiss)\n",
    "    rvecs = np.array(rvecs)\n",
    "    tvecs = np.array(tvecs)\n",
    "\n",
    "    return phiss, tvecs, rvecs"
   ]
  },
  {
   "cell_type": "code",
   "execution_count": 63,
   "metadata": {},
   "outputs": [],
   "source": [
    "PHIX_LOW, PHIX_HIGH = np.pi/12, np.pi/6\n",
    "DPHI = (PHIX_HIGH - PHIX_LOW) / 25\n",
    "phixs = np.arange(PHIX_LOW, PHIX_HIGH+DPHI, DPHI)"
   ]
  },
  {
   "cell_type": "markdown",
   "metadata": {},
   "source": [
    "## VR robot"
   ]
  },
  {
   "cell_type": "code",
   "execution_count": 64,
   "metadata": {},
   "outputs": [
    {
     "name": "stdout",
     "output_type": "stream",
     "text": [
      "vr first_phi: 0.324631\n",
      "vr last_phi: 0.439823\n"
     ]
    }
   ],
   "source": [
    "phiss, camps, tvecs, rvecs = vr_sweep(phixs)\n",
    "\n",
    "# distance from damera position to the center of the chessboard\n",
    "camds = []\n",
    "for cam_p in camps:\n",
    "    cam_d = np.sqrt(np.sum(np.square(np.array(cam_p) - np.array([2, 0, 0.59])), axis=0))\n",
    "    camds.append(cam_d)\n",
    "camds = np.array(camds)\n",
    "\n",
    "# length of the translation vector\n",
    "tvecds = np.sqrt(np.sum(np.square(tvecs), axis=1)).ravel()"
   ]
  },
  {
   "cell_type": "markdown",
   "metadata": {},
   "source": [
    "#### head moves down on Z world axis"
   ]
  },
  {
   "cell_type": "code",
   "execution_count": 33,
   "metadata": {
    "scrolled": true
   },
   "outputs": [
    {
     "data": {
      "text/plain": [
       "[<matplotlib.lines.Line2D at 0x13078ddd8>]"
      ]
     },
     "execution_count": 33,
     "metadata": {},
     "output_type": "execute_result"
    },
    {
     "data": {
      "image/png": "[encoded data removed]",
      "text/plain": [
       "<Figure size 432x288 with 1 Axes>"
      ]
     },
     "metadata": {
      "needs_background": "light"
     },
     "output_type": "display_data"
    }
   ],
   "source": [
    "plt.plot(camps[:,2], 'g.')"
   ]
  },
  {
   "cell_type": "markdown",
   "metadata": {},
   "source": [
    "#### target Y component of translation vector sweeps from 0.6 to -0.6"
   ]
  },
  {
   "cell_type": "code",
   "execution_count": 34,
   "metadata": {},
   "outputs": [
    {
     "data": {
      "text/plain": [
       "[<matplotlib.lines.Line2D at 0x1309666a0>,\n",
       " <matplotlib.lines.Line2D at 0x130966780>]"
      ]
     },
     "execution_count": 34,
     "metadata": {},
     "output_type": "execute_result"
    },
    {
     "data": {
      "image/png": "[encoded data removed]",
      "text/plain": [
       "<Figure size 432x288 with 1 Axes>"
      ]
     },
     "metadata": {
      "needs_background": "light"
     },
     "output_type": "display_data"
    }
   ],
   "source": [
    "plt.plot(camps[:,2], 'g.', tvecs[:,1], 'r.')"
   ]
  },
  {
   "cell_type": "markdown",
   "metadata": {},
   "source": [
    "#### headcam sways horizontally a tiny bit"
   ]
  },
  {
   "cell_type": "code",
   "execution_count": 35,
   "metadata": {},
   "outputs": [
    {
     "data": {
      "text/plain": [
       "[<matplotlib.lines.Line2D at 0x1309cc860>,\n",
       " <matplotlib.lines.Line2D at 0x1309b35f8>]"
      ]
     },
     "execution_count": 35,
     "metadata": {},
     "output_type": "execute_result"
    },
    {
     "data": {
      "image/png": "[encoded data removed]",
      "text/plain": [
       "<Figure size 432x288 with 1 Axes>"
      ]
     },
     "metadata": {
      "needs_background": "light"
     },
     "output_type": "display_data"
    }
   ],
   "source": [
    "plt.plot(camps[:,1], 'g.', tvecs[:,0], 'r.')"
   ]
  },
  {
   "cell_type": "markdown",
   "metadata": {},
   "source": [
    "#### headcam gets closer to the target"
   ]
  },
  {
   "cell_type": "code",
   "execution_count": 36,
   "metadata": {},
   "outputs": [],
   "source": []
  },
  {
   "cell_type": "code",
   "execution_count": 37,
   "metadata": {},
   "outputs": [],
   "source": []
  },
  {
   "cell_type": "code",
   "execution_count": 38,
   "metadata": {},
   "outputs": [
    {
     "data": {
      "text/plain": [
       "[<matplotlib.lines.Line2D at 0x1343ada58>,\n",
       " <matplotlib.lines.Line2D at 0x1343adb70>]"
      ]
     },
     "execution_count": 38,
     "metadata": {},
     "output_type": "execute_result"
    },
    {
     "data": {
      "image/png": "[encoded data removed]",
      "text/plain": [
       "<Figure size 432x288 with 1 Axes>"
      ]
     },
     "metadata": {
      "needs_background": "light"
     },
     "output_type": "display_data"
    }
   ],
   "source": [
    "plt.plot(camds, 'g', tvecds, 'r')"
   ]
  },
  {
   "cell_type": "code",
   "execution_count": 39,
   "metadata": {},
   "outputs": [
    {
     "data": {
      "text/plain": [
       "array([1.41940687, 1.40790607, 1.39807363, 1.38775289, 1.37865122,\n",
       "       1.36869184, 1.36298814, 1.35461262, 1.34973841, 1.34512216,\n",
       "       1.34077017, 1.33685953])"
      ]
     },
     "execution_count": 39,
     "metadata": {},
     "output_type": "execute_result"
    }
   ],
   "source": [
    "tvecds"
   ]
  },
  {
   "cell_type": "code",
   "execution_count": 40,
   "metadata": {},
   "outputs": [
    {
     "data": {
      "text/plain": [
       "[<matplotlib.lines.Line2D at 0x134504048>]"
      ]
     },
     "execution_count": 40,
     "metadata": {},
     "output_type": "execute_result"
    },
    {
     "data": {
      "image/png": "[encoded data removed]",
      "text/plain": [
       "<Figure size 432x288 with 1 Axes>"
      ]
     },
     "metadata": {
      "needs_background": "light"
     },
     "output_type": "display_data"
    }
   ],
   "source": [
    "plt.plot(camds - tvecds, 'b')"
   ]
  },
  {
   "cell_type": "markdown",
   "metadata": {},
   "source": [
    "####  Z component of translation vector reaches it peak and goes away"
   ]
  },
  {
   "cell_type": "code",
   "execution_count": 41,
   "metadata": {},
   "outputs": [
    {
     "data": {
      "text/plain": [
       "[<matplotlib.lines.Line2D at 0x10ff8e160>]"
      ]
     },
     "execution_count": 41,
     "metadata": {},
     "output_type": "execute_result"
    },
    {
     "data": {
      "image/png": "[encoded data removed]",
      "text/plain": [
       "<Figure size 432x288 with 1 Axes>"
      ]
     },
     "metadata": {
      "needs_background": "light"
     },
     "output_type": "display_data"
    }
   ],
   "source": [
    "plt.plot(tvecs[:,2], 'r.')"
   ]
  },
  {
   "cell_type": "markdown",
   "metadata": {},
   "source": [
    "#### Rotation vectors"
   ]
  },
  {
   "cell_type": "code",
   "execution_count": 68,
   "metadata": {},
   "outputs": [],
   "source": [
    "def rodrigues_to_euler_angles(rvec):\n",
    "        mat, jac = cv2.Rodrigues(rvec)\n",
    "\n",
    "        sy = np.sqrt(mat[0, 0] * mat[0, 0] + mat[1, 0] * mat[1, 0])\n",
    "\n",
    "        singular = sy < 1e-6\n",
    "\n",
    "        if not singular:\n",
    "            x = np.math.atan2(mat[2, 1], mat[2, 2])\n",
    "            y = np.math.atan2(-mat[2, 0], sy)\n",
    "            z = np.math.atan2(mat[1, 0], mat[0, 0])\n",
    "\n",
    "        else:\n",
    "            x = np.math.atan2(-mat[1, 2], mat[1, 1])\n",
    "            y = np.math.atan2(-mat[2, 0], sy)\n",
    "            z = 0\n",
    "\n",
    "        return np.array([x, y, z])"
   ]
  },
  {
   "cell_type": "code",
   "execution_count": 77,
   "metadata": {},
   "outputs": [
    {
     "data": {
      "image/png": "[encoded data removed]",
      "text/plain": [
       "<Figure size 432x288 with 1 Axes>"
      ]
     },
     "metadata": {
      "needs_background": "light"
     },
     "output_type": "display_data"
    }
   ],
   "source": [
    "_ = plt.plot(rvecs[:,0], 'r', rvecs[:,1], 'g', rvecs[:,2], 'b', )"
   ]
  },
  {
   "cell_type": "code",
   "execution_count": 74,
   "metadata": {},
   "outputs": [],
   "source": [
    "evecs=[]\n",
    "for rvec in rvecs:\n",
    "    evec = rodrigues_to_euler_angles(rvec)\n",
    "    evecs.append(evec)\n",
    "evecs=np.array(evecs)"
   ]
  },
  {
   "cell_type": "code",
   "execution_count": 76,
   "metadata": {},
   "outputs": [
    {
     "data": {
      "image/png": "[encoded data removed]",
      "text/plain": [
       "<Figure size 432x288 with 1 Axes>"
      ]
     },
     "metadata": {
      "needs_background": "light"
     },
     "output_type": "display_data"
    }
   ],
   "source": [
    "_ = plt.plot(evecs[:,0], 'r', evecs[:,1], 'g', evecs[:,2], 'b', )"
   ]
  },
  {
   "cell_type": "code",
   "execution_count": null,
   "metadata": {},
   "outputs": [],
   "source": []
  },
  {
   "cell_type": "code",
   "execution_count": 42,
   "metadata": {},
   "outputs": [
    {
     "name": "stdout",
     "output_type": "stream",
     "text": [
      "*** PyBulletRobot() closed ***\n"
     ]
    }
   ],
   "source": [
    "vr.close()"
   ]
  },
  {
   "cell_type": "markdown",
   "metadata": {},
   "source": [
    "## Real Robot"
   ]
  },
  {
   "cell_type": "code",
   "execution_count": 50,
   "metadata": {},
   "outputs": [
    {
     "name": "stdout",
     "output_type": "stream",
     "text": [
      "#DRY _open_stream: port=/dummy1\n",
      "#DRY _open_stream: port=/dummy2\n",
      "Current resolution: 1280.0x720.0\n",
      "New resolution: 1280.0x720.0\n"
     ]
    }
   ],
   "source": [
    "rr = PhyRobot()"
   ]
  },
  {
   "cell_type": "code",
   "execution_count": null,
   "metadata": {},
   "outputs": [],
   "source": [
    "r_phiss, r_tvecs, r_rvecs = rr_sweep(phixs)\n",
    "r_tvecds = np.sqrt(np.sum(np.square(r_tvecs), axis=1)).ravel()"
   ]
  },
  {
   "cell_type": "code",
   "execution_count": 58,
   "metadata": {},
   "outputs": [
    {
     "ename": "IndexError",
     "evalue": "too many indices for array",
     "output_type": "error",
     "traceback": [
      "\u001b[0;31m---------------------------------------------------------------------------\u001b[0m",
      "\u001b[0;31mIndexError\u001b[0m                                Traceback (most recent call last)",
      "\u001b[0;32m<ipython-input-58-e2c429068fbc>\u001b[0m in \u001b[0;36m<module>\u001b[0;34m\u001b[0m\n\u001b[0;32m----> 1\u001b[0;31m \u001b[0mplt\u001b[0m\u001b[0;34m.\u001b[0m\u001b[0mplot\u001b[0m\u001b[0;34m(\u001b[0m\u001b[0mphiss\u001b[0m\u001b[0;34m[\u001b[0m\u001b[0;34m:\u001b[0m\u001b[0;34m,\u001b[0m\u001b[0;36m0\u001b[0m\u001b[0;34m,\u001b[0m\u001b[0;36m0\u001b[0m\u001b[0;34m]\u001b[0m\u001b[0;34m,\u001b[0m \u001b[0mtvecds\u001b[0m\u001b[0;34m,\u001b[0m \u001b[0;34m'g'\u001b[0m\u001b[0;34m,\u001b[0m \u001b[0mr_phiss\u001b[0m\u001b[0;34m[\u001b[0m\u001b[0;34m:\u001b[0m\u001b[0;34m,\u001b[0m\u001b[0;36m0\u001b[0m\u001b[0;34m,\u001b[0m\u001b[0;36m0\u001b[0m\u001b[0;34m]\u001b[0m\u001b[0;34m,\u001b[0m \u001b[0mr_tvecds\u001b[0m\u001b[0;34m,\u001b[0m \u001b[0;34m'g'\u001b[0m\u001b[0;34m,\u001b[0m \u001b[0;34m)\u001b[0m\u001b[0;34m\u001b[0m\u001b[0;34m\u001b[0m\u001b[0m\n\u001b[0m",
      "\u001b[0;31mIndexError\u001b[0m: too many indices for array"
     ]
    }
   ],
   "source": [
    "plt.plot(phiss[:,0,0], tvecds, 'g', r_phiss[:,0,0], r_tvecds, 'g', )"
   ]
  },
  {
   "cell_type": "code",
   "execution_count": null,
   "metadata": {},
   "outputs": [],
   "source": []
  }
 ],
 "metadata": {
  "colab": {
   "name": "mk_cal_images.ipynb",
   "provenance": []
  },
  "kernelspec": {
   "display_name": "Python 3",
   "language": "python",
   "name": "python3"
  },
  "language_info": {
   "codemirror_mode": {
    "name": "ipython",
    "version": 3
   },
   "file_extension": ".py",
   "mimetype": "text/x-python",
   "name": "python",
   "nbconvert_exporter": "python",
   "pygments_lexer": "ipython3",
   "version": "3.6.10"
  }
 },
 "nbformat": 4,
 "nbformat_minor": 1
}
