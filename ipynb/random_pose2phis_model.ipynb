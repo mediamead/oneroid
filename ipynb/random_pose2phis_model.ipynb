{
 "cells": [
  {
   "cell_type": "code",
   "execution_count": 1,
   "metadata": {
    "scrolled": true
   },
   "outputs": [],
   "source": [
    "import sys, glob, time\n",
    "import collections\n",
    "\n",
    "import numpy as np\n",
    "import tensorflow as tf\n",
    "import pandas as pd \n",
    "\n",
    "import pybullet as p\n",
    "from pyb.pybullet_robot import PyBulletRobot\n",
    "\n",
    "from IPython.display import clear_output\n",
    "from matplotlib import pyplot as plt\n",
    "%matplotlib inline\n",
    "\n",
    "%load_ext autoreload\n",
    "%autoreload 2"
   ]
  },
  {
   "cell_type": "code",
   "execution_count": 2,
   "metadata": {},
   "outputs": [],
   "source": [
    "# plots loss and metrics for training and validation\n",
    "def plot_fh(history):\n",
    "  plt.plot(history.history['loss'])\n",
    "  plt.plot(history.history['val_loss'])\n",
    "  plt.title('model loss')\n",
    "  plt.ylabel('loss')\n",
    "  plt.xlabel('epoch')\n",
    "  plt.legend(['train', 'val'], loc='upper left')\n",
    "  plt.show()"
   ]
  },
  {
   "cell_type": "code",
   "execution_count": 3,
   "metadata": {},
   "outputs": [],
   "source": [
    "# plots given data_dict\n",
    "def live_plot(data_dict, figsize=(17,15), title=''):\n",
    "    clear_output(wait=True)\n",
    "    plt.figure(figsize=figsize)\n",
    "    for label,data in data_dict.items():\n",
    "        plt.plot(data, label=label)\n",
    "    plt.title(title)\n",
    "    plt.grid(True)\n",
    "    plt.xlabel('epoch')\n",
    "    plt.legend(loc='center left') # the plot evolves to the right\n",
    "    plt.show()"
   ]
  },
  {
   "cell_type": "code",
   "execution_count": 4,
   "metadata": {},
   "outputs": [
    {
     "name": "stdout",
     "output_type": "stream",
     "text": [
      "*** Initializing PyBulletRobot(ns=4, render=True) ...\n",
      "*** Initializing PyBulletRobot() done\n"
     ]
    }
   ],
   "source": [
    "gui = True\n",
    "r = PyBulletRobot(4, 4, render=gui)"
   ]
  },
  {
   "cell_type": "code",
   "execution_count": 5,
   "metadata": {},
   "outputs": [],
   "source": [
    "def mk_model(N, L, activation):\n",
    "    inputs = layer = tf.keras.Input(shape=(7,))\n",
    "    \n",
    "    for _ in range(L):\n",
    "        layer = tf.keras.layers.Dense(N, activation=activation)(layer)\n",
    "        \n",
    "    outputs = tf.keras.layers.Dense(6, activation='tanh')(layer)\n",
    "\n",
    "    model = tf.keras.Model(inputs, outputs)\n",
    "    model.compile(loss='mean_squared_error', optimizer='adam', metrics=['mae'])\n",
    "\n",
    "    return model\n",
    "\n",
    "#print(model.summary())"
   ]
  },
  {
   "cell_type": "code",
   "execution_count": 6,
   "metadata": {},
   "outputs": [],
   "source": [
    "# X - cam_p + cam_o (quaternion) = 7\n",
    "# Y - phis - 3 * 2 = 6\n",
    "def mk_random_xy(M):\n",
    "    X = np.zeros((M, 7))\n",
    "    Y = np.zeros((M, 6))\n",
    "\n",
    "    Y[:,0] = np.random.uniform(low=-0.6, high=0, size=(M))\n",
    "    Y[:,2] = np.random.uniform(low=0.3, high=0.8, size=(M))\n",
    "    Y[:,4] = np.random.uniform(low=0.3, high=0.8, size=(M))\n",
    "\n",
    "    Y[:,1] = np.random.uniform(low=-0.6, high=0.6, size=(M))\n",
    "    Y[:,3] = np.random.uniform(low=-0.6, high=0.6, size=(M))\n",
    "    Y[:,5] = np.random.uniform(low=-0.6, high=0.6, size=(M))\n",
    "\n",
    "    for i in range(M):\n",
    "        phis = Y[i,:].reshape(-1, 2)\n",
    "        phis = np.append(phis, [phis[-1]], axis=0) # add another axis moving in sync with the last one\n",
    "        \n",
    "        r.step(phis)\n",
    "\n",
    "        cam_p, cam_o = r.getHeadcamPO()\n",
    "        X[i] = cam_p + cam_o\n",
    "    \n",
    "    return X, Y\n",
    "\n",
    "#mk_xy(1)"
   ]
  },
  {
   "cell_type": "code",
   "execution_count": 8,
   "metadata": {},
   "outputs": [
    {
     "name": "stdout",
     "output_type": "stream",
     "text": [
      "Shape of X=(5000000, 7) and Y=(5000000, 6)\n"
     ]
    }
   ],
   "source": [
    "X, Y = mk_random_xy(5000000)\n",
    "print(\"Shape of X=%s and Y=%s\" % (X.shape, Y.shape))    "
   ]
  },
  {
   "cell_type": "code",
   "execution_count": null,
   "metadata": {},
   "outputs": [],
   "source": [
    "np.savez(\"xy-%d.npz\" % X.shape[0], X=X, Y=Y)"
   ]
  },
  {
   "cell_type": "code",
   "execution_count": 11,
   "metadata": {
    "scrolled": false
   },
   "outputs": [],
   "source": [
    "def train_and_save(X, Y, N=128, L=4, activation=\"relu\"):\n",
    "    m_fname = 'pose2phis-%d-%d-%s-%d' % (N, L, activation, X.shape[0])\n",
    "    fh_fname = \"%s.fh.npz\" % m_fname\n",
    "    \n",
    "    model = mk_model(N, L, activation)\n",
    "    \n",
    "    print(\"# Training %s\" % m_fname)\n",
    "    fh = model.fit(X, Y, epochs=12, shuffle=True, validation_split=0.002, verbose=1)\n",
    "    plot_fh(fh)\n",
    "\n",
    "    model.save(m_fname)\n",
    "    np.savez(fh_fname, fh=fh)\n",
    "\n",
    "    print(\"# Trained model saved in %s, fit history saved in %s\" % (m_fname, fh_fname))\n",
    "    \n",
    "    return model"
   ]
  },
  {
   "cell_type": "code",
   "execution_count": 12,
   "metadata": {},
   "outputs": [
    {
     "name": "stdout",
     "output_type": "stream",
     "text": [
      "# Training pose2phis-128-4-relu-5000000\n",
      "Train on 4990000 samples, validate on 10000 samples\n",
      "Epoch 1/12\n",
      "4990000/4990000 [==============================] - 399s 80us/sample - loss: 0.0057 - mae: 0.0449 - val_loss: 0.0045 - val_mae: 0.0378\n",
      "Epoch 2/12\n",
      "4990000/4990000 [==============================] - 409s 82us/sample - loss: 0.0045 - mae: 0.0379 - val_loss: 0.0040 - val_mae: 0.0340\n",
      "Epoch 3/12\n",
      "4990000/4990000 [==============================] - 420s 84us/sample - loss: 0.0042 - mae: 0.0358 - val_loss: 0.0048 - val_mae: 0.0388\n",
      "Epoch 4/12\n",
      "4990000/4990000 [==============================] - 411s 82us/sample - loss: 0.0040 - mae: 0.0348 - val_loss: 0.0037 - val_mae: 0.0320\n",
      "Epoch 5/12\n",
      "4990000/4990000 [==============================] - 402s 81us/sample - loss: 0.0039 - mae: 0.0341 - val_loss: 0.0037 - val_mae: 0.0323\n",
      "Epoch 6/12\n",
      "4990000/4990000 [==============================] - 469s 94us/sample - loss: 0.0038 - mae: 0.0334 - val_loss: 0.0037 - val_mae: 0.0322\n",
      "Epoch 7/12\n",
      "4990000/4990000 [==============================] - 447s 90us/sample - loss: 0.0038 - mae: 0.0329 - val_loss: 0.0038 - val_mae: 0.0338\n",
      "Epoch 8/12\n",
      "4990000/4990000 [==============================] - 403s 81us/sample - loss: 0.0037 - mae: 0.0325 - val_loss: 0.0041 - val_mae: 0.0328\n",
      "Epoch 9/12\n",
      "4990000/4990000 [==============================] - 429s 86us/sample - loss: 0.0037 - mae: 0.0322 - val_loss: 0.0035 - val_mae: 0.0306\n",
      "Epoch 10/12\n",
      "4990000/4990000 [==============================] - 413s 83us/sample - loss: 0.0036 - mae: 0.0318 - val_loss: 0.0035 - val_mae: 0.0312\n",
      "Epoch 11/12\n",
      "4990000/4990000 [==============================] - 391s 78us/sample - loss: 0.0036 - mae: 0.0315 - val_loss: 0.0037 - val_mae: 0.0312\n",
      "Epoch 12/12\n",
      "4990000/4990000 [==============================] - 390s 78us/sample - loss: 0.0035 - mae: 0.0312 - val_loss: 0.0032 - val_mae: 0.0287\n"
     ]
    },
    {
     "data": {
      "image/png": "[encoded data removed]",
      "text/plain": [
       "<Figure size 432x288 with 1 Axes>"
      ]
     },
     "metadata": {
      "needs_background": "light"
     },
     "output_type": "display_data"
    },
    {
     "name": "stdout",
     "output_type": "stream",
     "text": [
      "WARNING:tensorflow:From C:\\Users\\abb\\Anaconda3\\envs\\oneroid3\\lib\\site-packages\\tensorflow_core\\python\\ops\\resource_variable_ops.py:1786: calling BaseResourceVariable.__init__ (from tensorflow.python.ops.resource_variable_ops) with constraint is deprecated and will be removed in a future version.\n",
      "Instructions for updating:\n",
      "If using Keras pass *_constraint arguments to layers.\n",
      "INFO:tensorflow:Assets written to: pose2phis-128-4-relu-5000000\\assets\n"
     ]
    },
    {
     "ename": "TypeError",
     "evalue": "can't pickle _thread.RLock objects",
     "output_type": "error",
     "traceback": [
      "\u001b[1;31m---------------------------------------------------------------------------\u001b[0m",
      "\u001b[1;31mTypeError\u001b[0m                                 Traceback (most recent call last)",
      "\u001b[1;32m<ipython-input-12-5f73866afd31>\u001b[0m in \u001b[0;36m<module>\u001b[1;34m\u001b[0m\n\u001b[1;32m----> 1\u001b[1;33m \u001b[0mtrain_and_save\u001b[0m\u001b[1;33m(\u001b[0m\u001b[0mX\u001b[0m\u001b[1;33m,\u001b[0m \u001b[0mY\u001b[0m\u001b[1;33m)\u001b[0m\u001b[1;33m\u001b[0m\u001b[1;33m\u001b[0m\u001b[0m\n\u001b[0m",
      "\u001b[1;32m<ipython-input-11-3df58a4592de>\u001b[0m in \u001b[0;36mtrain_and_save\u001b[1;34m(X, Y, N, L, activation)\u001b[0m\n\u001b[0;32m     10\u001b[0m \u001b[1;33m\u001b[0m\u001b[0m\n\u001b[0;32m     11\u001b[0m     \u001b[0mmodel\u001b[0m\u001b[1;33m.\u001b[0m\u001b[0msave\u001b[0m\u001b[1;33m(\u001b[0m\u001b[0mm_fname\u001b[0m\u001b[1;33m)\u001b[0m\u001b[1;33m\u001b[0m\u001b[1;33m\u001b[0m\u001b[0m\n\u001b[1;32m---> 12\u001b[1;33m     \u001b[0mnp\u001b[0m\u001b[1;33m.\u001b[0m\u001b[0msavez\u001b[0m\u001b[1;33m(\u001b[0m\u001b[0mfh_fname\u001b[0m\u001b[1;33m,\u001b[0m \u001b[0mfh\u001b[0m\u001b[1;33m=\u001b[0m\u001b[0mfh\u001b[0m\u001b[1;33m)\u001b[0m\u001b[1;33m\u001b[0m\u001b[1;33m\u001b[0m\u001b[0m\n\u001b[0m\u001b[0;32m     13\u001b[0m \u001b[1;33m\u001b[0m\u001b[0m\n\u001b[0;32m     14\u001b[0m     \u001b[0mprint\u001b[0m\u001b[1;33m(\u001b[0m\u001b[1;34m\"# Trained model saved in %s, fit history saved in %s\"\u001b[0m \u001b[1;33m%\u001b[0m \u001b[1;33m(\u001b[0m\u001b[0mm_fname\u001b[0m\u001b[1;33m,\u001b[0m \u001b[0mfh_fname\u001b[0m\u001b[1;33m)\u001b[0m\u001b[1;33m)\u001b[0m\u001b[1;33m\u001b[0m\u001b[1;33m\u001b[0m\u001b[0m\n",
      "\u001b[1;32m<__array_function__ internals>\u001b[0m in \u001b[0;36msavez\u001b[1;34m(*args, **kwargs)\u001b[0m\n",
      "\u001b[1;32m~\\Anaconda3\\envs\\oneroid3\\lib\\site-packages\\numpy\\lib\\npyio.py\u001b[0m in \u001b[0;36msavez\u001b[1;34m(file, *args, **kwds)\u001b[0m\n\u001b[0;32m    643\u001b[0m     \u001b[0marray\u001b[0m\u001b[1;33m(\u001b[0m\u001b[1;33m[\u001b[0m\u001b[1;36m0\u001b[0m\u001b[1;33m,\u001b[0m \u001b[1;36m1\u001b[0m\u001b[1;33m,\u001b[0m \u001b[1;36m2\u001b[0m\u001b[1;33m,\u001b[0m \u001b[1;36m3\u001b[0m\u001b[1;33m,\u001b[0m \u001b[1;36m4\u001b[0m\u001b[1;33m,\u001b[0m \u001b[1;36m5\u001b[0m\u001b[1;33m,\u001b[0m \u001b[1;36m6\u001b[0m\u001b[1;33m,\u001b[0m \u001b[1;36m7\u001b[0m\u001b[1;33m,\u001b[0m \u001b[1;36m8\u001b[0m\u001b[1;33m,\u001b[0m \u001b[1;36m9\u001b[0m\u001b[1;33m]\u001b[0m\u001b[1;33m)\u001b[0m\u001b[1;33m\u001b[0m\u001b[1;33m\u001b[0m\u001b[0m\n\u001b[0;32m    644\u001b[0m     \"\"\"\n\u001b[1;32m--> 645\u001b[1;33m     \u001b[0m_savez\u001b[0m\u001b[1;33m(\u001b[0m\u001b[0mfile\u001b[0m\u001b[1;33m,\u001b[0m \u001b[0margs\u001b[0m\u001b[1;33m,\u001b[0m \u001b[0mkwds\u001b[0m\u001b[1;33m,\u001b[0m \u001b[1;32mFalse\u001b[0m\u001b[1;33m)\u001b[0m\u001b[1;33m\u001b[0m\u001b[1;33m\u001b[0m\u001b[0m\n\u001b[0m\u001b[0;32m    646\u001b[0m \u001b[1;33m\u001b[0m\u001b[0m\n\u001b[0;32m    647\u001b[0m \u001b[1;33m\u001b[0m\u001b[0m\n",
      "\u001b[1;32m~\\Anaconda3\\envs\\oneroid3\\lib\\site-packages\\numpy\\lib\\npyio.py\u001b[0m in \u001b[0;36m_savez\u001b[1;34m(file, args, kwds, compress, allow_pickle, pickle_kwargs)\u001b[0m\n\u001b[0;32m    752\u001b[0m                 format.write_array(fid, val,\n\u001b[0;32m    753\u001b[0m                                    \u001b[0mallow_pickle\u001b[0m\u001b[1;33m=\u001b[0m\u001b[0mallow_pickle\u001b[0m\u001b[1;33m,\u001b[0m\u001b[1;33m\u001b[0m\u001b[1;33m\u001b[0m\u001b[0m\n\u001b[1;32m--> 754\u001b[1;33m                                    pickle_kwargs=pickle_kwargs)\n\u001b[0m\u001b[0;32m    755\u001b[0m     \u001b[1;32melse\u001b[0m\u001b[1;33m:\u001b[0m\u001b[1;33m\u001b[0m\u001b[1;33m\u001b[0m\u001b[0m\n\u001b[0;32m    756\u001b[0m         \u001b[1;31m# Stage arrays in a temporary file on disk, before writing to zip.\u001b[0m\u001b[1;33m\u001b[0m\u001b[1;33m\u001b[0m\u001b[1;33m\u001b[0m\u001b[0m\n",
      "\u001b[1;32m~\\Anaconda3\\envs\\oneroid3\\lib\\site-packages\\numpy\\lib\\format.py\u001b[0m in \u001b[0;36mwrite_array\u001b[1;34m(fp, array, version, allow_pickle, pickle_kwargs)\u001b[0m\n\u001b[0;32m    674\u001b[0m         \u001b[1;32mif\u001b[0m \u001b[0mpickle_kwargs\u001b[0m \u001b[1;32mis\u001b[0m \u001b[1;32mNone\u001b[0m\u001b[1;33m:\u001b[0m\u001b[1;33m\u001b[0m\u001b[1;33m\u001b[0m\u001b[0m\n\u001b[0;32m    675\u001b[0m             \u001b[0mpickle_kwargs\u001b[0m \u001b[1;33m=\u001b[0m \u001b[1;33m{\u001b[0m\u001b[1;33m}\u001b[0m\u001b[1;33m\u001b[0m\u001b[1;33m\u001b[0m\u001b[0m\n\u001b[1;32m--> 676\u001b[1;33m         \u001b[0mpickle\u001b[0m\u001b[1;33m.\u001b[0m\u001b[0mdump\u001b[0m\u001b[1;33m(\u001b[0m\u001b[0marray\u001b[0m\u001b[1;33m,\u001b[0m \u001b[0mfp\u001b[0m\u001b[1;33m,\u001b[0m \u001b[0mprotocol\u001b[0m\u001b[1;33m=\u001b[0m\u001b[1;36m3\u001b[0m\u001b[1;33m,\u001b[0m \u001b[1;33m**\u001b[0m\u001b[0mpickle_kwargs\u001b[0m\u001b[1;33m)\u001b[0m\u001b[1;33m\u001b[0m\u001b[1;33m\u001b[0m\u001b[0m\n\u001b[0m\u001b[0;32m    677\u001b[0m     \u001b[1;32melif\u001b[0m \u001b[0marray\u001b[0m\u001b[1;33m.\u001b[0m\u001b[0mflags\u001b[0m\u001b[1;33m.\u001b[0m\u001b[0mf_contiguous\u001b[0m \u001b[1;32mand\u001b[0m \u001b[1;32mnot\u001b[0m \u001b[0marray\u001b[0m\u001b[1;33m.\u001b[0m\u001b[0mflags\u001b[0m\u001b[1;33m.\u001b[0m\u001b[0mc_contiguous\u001b[0m\u001b[1;33m:\u001b[0m\u001b[1;33m\u001b[0m\u001b[1;33m\u001b[0m\u001b[0m\n\u001b[0;32m    678\u001b[0m         \u001b[1;32mif\u001b[0m \u001b[0misfileobj\u001b[0m\u001b[1;33m(\u001b[0m\u001b[0mfp\u001b[0m\u001b[1;33m)\u001b[0m\u001b[1;33m:\u001b[0m\u001b[1;33m\u001b[0m\u001b[1;33m\u001b[0m\u001b[0m\n",
      "\u001b[1;31mTypeError\u001b[0m: can't pickle _thread.RLock objects"
     ]
    }
   ],
   "source": [
    "train_and_save(X, Y)"
   ]
  },
  {
   "cell_type": "code",
   "execution_count": null,
   "metadata": {
    "scrolled": true
   },
   "outputs": [],
   "source": [
    "MAX_ALPHA = np.pi/4\n",
    "D_ALPHA = 0.025\n",
    "\n",
    "def set_robot_pose(model, alpha):\n",
    "    cam_p = [0.23, 0.0, 0.67]\n",
    "    \n",
    "    # getQuaternionFromEuler (the roll around the X, pitch around Y and yaw around the Z axis)\n",
    "    cam_o = r.euler2orn(alpha, np.pi/2, 0)\n",
    "    cam_v, cam_u = r.orn2vu(cam_o)\n",
    "\n",
    "    test_X = np.array([cam_p + cam_o], dtype=np.float32)\n",
    "    pred_phis = model.predict(test_X)\n",
    "    \n",
    "    pred_phis = pred_phis.reshape(-1, 2)\n",
    "    pred_phis = np.append(pred_phis, [pred_phis[-1]], axis=0)    \n",
    "    r.step(pred_phis)\n",
    "    pvu = r.getHeadcamPVU()\n",
    "\n",
    "    #r.getCameraImage()\n",
    "    return pvu, pred_phis.reshape(-1), [cam_p, cam_v, cam_u]\n",
    "\n",
    "def sweep_model(model):\n",
    "    data_v = collections.defaultdict(list)\n",
    "    data_u = collections.defaultdict(list)\n",
    "    data_phis = collections.defaultdict(list)\n",
    "\n",
    "    for alpha in np.arange(-MAX_ALPHA, MAX_ALPHA+D_ALPHA, D_ALPHA):\n",
    "        pvu0, phis, pvu1 = set_robot_pose(model, alpha)\n",
    "\n",
    "        if True:\n",
    "            data_v['cam_vx0'].append(pvu0[1][0])\n",
    "            data_v['cam_vx1'].append(pvu1[1][0])\n",
    "            data_v['cam_vy0'].append(pvu0[1][1])\n",
    "            data_v['cam_vy1'].append(pvu1[1][1])\n",
    "            data_v['cam_vz0'].append(pvu0[1][2])\n",
    "            data_v['cam_vz1'].append(pvu1[1][2])\n",
    "\n",
    "        if True:\n",
    "            data_u['cam_ux0'].append(pvu0[2][0])\n",
    "            data_u['cam_ux1'].append(pvu1[2][0])\n",
    "            data_u['cam_uy0'].append(pvu0[2][1])\n",
    "            data_u['cam_uy1'].append(pvu1[2][1])\n",
    "            data_u['cam_uz0'].append(pvu0[2][2])\n",
    "            data_u['cam_uz1'].append(pvu1[2][2])\n",
    "\n",
    "        if True:\n",
    "            for i in range(phis.shape[0]-2):\n",
    "                data_phis['phi%d' % i].append(phis[i])\n",
    "\n",
    "    return data_v, data_u, data_phis"
   ]
  },
  {
   "cell_type": "code",
   "execution_count": null,
   "metadata": {
    "scrolled": false
   },
   "outputs": [],
   "source": [
    "#model = tf.keras.models.load_model('pose2phis-128-4-relu-10000000')\n",
    "data_v, data_u, data_phis = sweep_model(model)"
   ]
  },
  {
   "cell_type": "code",
   "execution_count": null,
   "metadata": {},
   "outputs": [],
   "source": [
    "live_plot(data_v)"
   ]
  },
  {
   "cell_type": "code",
   "execution_count": null,
   "metadata": {},
   "outputs": [],
   "source": [
    "live_plot(data_u)"
   ]
  },
  {
   "cell_type": "code",
   "execution_count": null,
   "metadata": {},
   "outputs": [],
   "source": [
    "live_plot(data_phis)"
   ]
  }
 ],
 "metadata": {
  "kernelspec": {
   "display_name": "Python 3",
   "language": "python",
   "name": "python3"
  },
  "language_info": {
   "codemirror_mode": {
    "name": "ipython",
    "version": 3
   },
   "file_extension": ".py",
   "mimetype": "text/x-python",
   "name": "python",
   "nbconvert_exporter": "python",
   "pygments_lexer": "ipython3",
   "version": "3.7.6"
  }
 },
 "nbformat": 4,
 "nbformat_minor": 4
}
