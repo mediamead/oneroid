{
 "cells": [
  {
   "cell_type": "markdown",
   "metadata": {},
   "source": [
    "This notebook moves the virtual robot through preset positions and saves captured headcam images.\n",
    "The saved images can be processed with opencv/calibrate.py to calibrate the virtual camera.\n",
    "Check results of the calibration with opencv/dump_lifecam_cal.py.\n",
    "After successful calibration move cal.npz to pyb/."
   ]
  },
  {
   "cell_type": "code",
   "execution_count": 1,
   "metadata": {},
   "outputs": [],
   "source": [
    "from matplotlib import pyplot as plt\n",
    "%matplotlib inline\n",
    "%load_ext autoreload\n",
    "%autoreload 2"
   ]
  },
  {
   "cell_type": "code",
   "execution_count": 2,
   "metadata": {
    "colab": {},
    "colab_type": "code",
    "id": "sSU0OmH8Iino"
   },
   "outputs": [],
   "source": [
    "import os, sys\n",
    "from os.path import dirname\n",
    "sys.path.append(os.path.join(os.getcwd(), '..'))"
   ]
  },
  {
   "cell_type": "code",
   "execution_count": 3,
   "metadata": {
    "colab": {},
    "colab_type": "code",
    "id": "PL8wjAZvRmAI"
   },
   "outputs": [],
   "source": [
    "import cv2\n",
    "import pybullet as p\n",
    "import numpy as np\n",
    "import pylab\n",
    "\n",
    "from opencv.opencv_tools import save\n",
    "from pyb.pybullet_robot import PyBulletRobot"
   ]
  },
  {
   "cell_type": "code",
   "execution_count": 4,
   "metadata": {
    "colab": {
     "base_uri": "https://localhost:8080/",
     "height": 50
    },
    "colab_type": "code",
    "id": "WIV_SwzzRIsQ",
    "outputId": "53b73d97-31d5-4479-a012-0cd72f550be8"
   },
   "outputs": [
    {
     "name": "stdout",
     "output_type": "stream",
     "text": [
      "*** Initializing PyBulletRobot(ns=4, render=False) ...\n",
      "*** Initializing PyBulletRobot() done\n"
     ]
    }
   ],
   "source": [
    "r = PyBulletRobot(render=False)"
   ]
  },
  {
   "cell_type": "markdown",
   "metadata": {},
   "source": [
    "### Save calibration images"
   ]
  },
  {
   "cell_type": "code",
   "execution_count": 5,
   "metadata": {},
   "outputs": [],
   "source": [
    "def rstep4(phi1x, phi1y, phi2x, phi2y):\n",
    "    #phi2x /= 2\n",
    "    phi2y /= 2\n",
    "    phis = np.array([[-np.pi/8, 0], [phi1x, phi1y], [phi2x, phi2y], [phi2x, phi2y]])\n",
    "    r.step(phis)\n",
    "\n",
    "def mk_cal_images():\n",
    "    phisx_sweep = [np.pi/4.5, np.pi/5, np.pi/5.5]\n",
    "    phisy_sweep = [-np.pi/8, 0, np.pi/8]\n",
    "\n",
    "    for phi1x in phisx_sweep:\n",
    "        for phi1y in phisy_sweep:\n",
    "            for phi2x in phisx_sweep:\n",
    "                for phi2y in phisy_sweep:\n",
    "                    rstep4(phi1x, phi1y, phi2x, phi2y)                  \n",
    "                    img = r.getCameraBGRImage()\n",
    "                    save(img)"
   ]
  },
  {
   "cell_type": "code",
   "execution_count": 6,
   "metadata": {},
   "outputs": [
    {
     "name": "stdout",
     "output_type": "stream",
     "text": [
      "image saved in 'img-1592885715465578.jpg'\n",
      "image saved in 'img-1592885715635579.jpg'\n",
      "image saved in 'img-1592885715780336.jpg'\n",
      "image saved in 'img-1592885715960985.jpg'\n",
      "image saved in 'img-1592885716112719.jpg'\n",
      "image saved in 'img-1592885716230044.jpg'\n",
      "image saved in 'img-1592885716389704.jpg'\n",
      "image saved in 'img-1592885716515255.jpg'\n",
      "image saved in 'img-1592885716613542.jpg'\n",
      "image saved in 'img-1592885716777387.jpg'\n",
      "image saved in 'img-1592885716922474.jpg'\n",
      "image saved in 'img-1592885717088558.jpg'\n",
      "image saved in 'img-1592885717237242.jpg'\n",
      "image saved in 'img-1592885717362877.jpg'\n",
      "image saved in 'img-1592885717571850.jpg'\n",
      "image saved in 'img-1592885717762175.jpg'\n",
      "image saved in 'img-1592885717908826.jpg'\n",
      "image saved in 'img-1592885718045517.jpg'\n",
      "image saved in 'img-1592885718197686.jpg'\n",
      "image saved in 'img-1592885718377487.jpg'\n",
      "image saved in 'img-1592885718591579.jpg'\n",
      "image saved in 'img-1592885718717184.jpg'\n",
      "image saved in 'img-1592885718909952.jpg'\n",
      "image saved in 'img-1592885719121066.jpg'\n",
      "image saved in 'img-1592885719234519.jpg'\n",
      "image saved in 'img-1592885719401946.jpg'\n",
      "image saved in 'img-1592885719573799.jpg'\n",
      "image saved in 'img-1592885719761212.jpg'\n",
      "image saved in 'img-1592885719905709.jpg'\n",
      "image saved in 'img-1592885720037836.jpg'\n",
      "image saved in 'img-1592885720206783.jpg'\n",
      "image saved in 'img-1592885720331719.jpg'\n",
      "image saved in 'img-1592885720438685.jpg'\n",
      "image saved in 'img-1592885720585921.jpg'\n",
      "image saved in 'img-1592885720697376.jpg'\n",
      "image saved in 'img-1592885720787054.jpg'\n",
      "image saved in 'img-1592885720938790.jpg'\n",
      "image saved in 'img-1592885721072369.jpg'\n",
      "image saved in 'img-1592885721224194.jpg'\n",
      "image saved in 'img-1592885721376993.jpg'\n",
      "image saved in 'img-1592885721495489.jpg'\n",
      "image saved in 'img-1592885721629920.jpg'\n",
      "image saved in 'img-1592885721742149.jpg'\n",
      "image saved in 'img-1592885721835115.jpg'\n",
      "image saved in 'img-1592885721969125.jpg'\n",
      "image saved in 'img-1592885722132815.jpg'\n",
      "image saved in 'img-1592885722325984.jpg'\n",
      "image saved in 'img-1592885722536979.jpg'\n",
      "image saved in 'img-1592885722653963.jpg'\n",
      "image saved in 'img-1592885722797591.jpg'\n",
      "image saved in 'img-1592885722983219.jpg'\n",
      "image saved in 'img-1592885723115985.jpg'\n",
      "image saved in 'img-1592885723252969.jpg'\n",
      "image saved in 'img-1592885723427939.jpg'\n",
      "image saved in 'img-1592885723607365.jpg'\n",
      "image saved in 'img-1592885723742013.jpg'\n",
      "image saved in 'img-1592885723897018.jpg'\n",
      "image saved in 'img-1592885724068806.jpg'\n",
      "image saved in 'img-1592885724201089.jpg'\n",
      "image saved in 'img-1592885724314976.jpg'\n",
      "image saved in 'img-1592885724461014.jpg'\n",
      "image saved in 'img-1592885724577580.jpg'\n",
      "image saved in 'img-1592885724666844.jpg'\n",
      "image saved in 'img-1592885724820536.jpg'\n",
      "image saved in 'img-1592885724952505.jpg'\n",
      "image saved in 'img-1592885725114636.jpg'\n",
      "image saved in 'img-1592885725252001.jpg'\n",
      "image saved in 'img-1592885725385157.jpg'\n",
      "image saved in 'img-1592885725526437.jpg'\n",
      "image saved in 'img-1592885725647640.jpg'\n",
      "image saved in 'img-1592885725739250.jpg'\n",
      "image saved in 'img-1592885725855157.jpg'\n",
      "image saved in 'img-1592885725984442.jpg'\n",
      "image saved in 'img-1592885726147778.jpg'\n",
      "image saved in 'img-1592885726327332.jpg'\n",
      "image saved in 'img-1592885726442009.jpg'\n",
      "image saved in 'img-1592885726564640.jpg'\n",
      "image saved in 'img-1592885726724161.jpg'\n",
      "image saved in 'img-1592885726828917.jpg'\n",
      "image saved in 'img-1592885726942682.jpg'\n",
      "image saved in 'img-1592885727090056.jpg'\n"
     ]
    }
   ],
   "source": [
    "mk_cal_images()"
   ]
  }
 ],
 "metadata": {
  "colab": {
   "name": "mk_cal_images.ipynb",
   "provenance": []
  },
  "kernelspec": {
   "display_name": "Python 3",
   "language": "python",
   "name": "python3"
  },
  "language_info": {
   "codemirror_mode": {
    "name": "ipython",
    "version": 3
   },
   "file_extension": ".py",
   "mimetype": "text/x-python",
   "name": "python",
   "nbconvert_exporter": "python",
   "pygments_lexer": "ipython3",
   "version": "3.6.10"
  }
 },
 "nbformat": 4,
 "nbformat_minor": 1
}
