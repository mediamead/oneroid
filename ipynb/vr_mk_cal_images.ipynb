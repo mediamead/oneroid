{
 "cells": [
  {
   "cell_type": "markdown",
   "metadata": {},
   "source": [
    "This notebook moves the virtual robot through preset positions and saves captured headcam images.\n",
    "The saved images can be processed with opencv/calibrate.py to calibrate the virtual camera.\n",
    "Check results of the calibration with opencv/dump_lifecam_cal.py.\n",
    "After successful calibration move cal.npz to pyb/."
   ]
  },
  {
   "cell_type": "code",
   "execution_count": 1,
   "metadata": {},
   "outputs": [],
   "source": [
    "from matplotlib import pyplot as plt\n",
    "%matplotlib inline\n",
    "%load_ext autoreload\n",
    "%autoreload 2"
   ]
  },
  {
   "cell_type": "code",
   "execution_count": 2,
   "metadata": {
    "colab": {},
    "colab_type": "code",
    "id": "sSU0OmH8Iino"
   },
   "outputs": [],
   "source": [
    "import os, sys\n",
    "from os.path import dirname\n",
    "sys.path.append(os.path.join(os.getcwd(), '..'))"
   ]
  },
  {
   "cell_type": "code",
   "execution_count": 3,
   "metadata": {
    "colab": {},
    "colab_type": "code",
    "id": "PL8wjAZvRmAI"
   },
   "outputs": [],
   "source": [
    "import cv2\n",
    "import pybullet as p\n",
    "import numpy as np\n",
    "import pylab\n",
    "\n",
    "from opencv.opencv_tools import save\n",
    "from pyb.pybullet_robot import PyBulletRobot"
   ]
  },
  {
   "cell_type": "code",
   "execution_count": 4,
   "metadata": {
    "colab": {
     "base_uri": "https://localhost:8080/",
     "height": 50
    },
    "colab_type": "code",
    "id": "WIV_SwzzRIsQ",
    "outputId": "53b73d97-31d5-4479-a012-0cd72f550be8"
   },
   "outputs": [
    {
     "name": "stdout",
     "output_type": "stream",
     "text": [
      "*** Initializing PyBulletRobot(ns=4, render=False) ...\n",
      "*** Initializing PyBulletRobot() done\n"
     ]
    }
   ],
   "source": [
    "r = PyBulletRobot(render=False)"
   ]
  },
  {
   "cell_type": "markdown",
   "metadata": {},
   "source": [
    "### Save calibration images"
   ]
  },
  {
   "cell_type": "code",
   "execution_count": 7,
   "metadata": {},
   "outputs": [],
   "source": [
    "def rstep4(phi1x, phi1y, phi2x, phi2y):\n",
    "    #phi2x /= 2\n",
    "    phi2y /= 2\n",
    "    phis = np.array([[-np.pi/8, 0], [phi1x, phi1y], [phi2x, phi2y], [phi2x, phi2y]])\n",
    "    r.step(phis)\n",
    "\n",
    "def mk_cal_images():\n",
    "    phisx_sweep = [np.pi/4.7, np.pi/5, np.pi/5.3]\n",
    "    phisy_sweep = [-np.pi/10, 0, np.pi/10]\n",
    "\n",
    "    for phi1x in phisx_sweep:\n",
    "        for phi1y in phisy_sweep:\n",
    "            for phi2x in phisx_sweep:\n",
    "                for phi2y in phisy_sweep:\n",
    "                    rstep4(phi1x, phi1y, phi2x, phi2y)                  \n",
    "                    img = r.getCameraBGRImage()\n",
    "                    save(img)"
   ]
  },
  {
   "cell_type": "code",
   "execution_count": 8,
   "metadata": {},
   "outputs": [
    {
     "name": "stdout",
     "output_type": "stream",
     "text": [
      "image saved in 'img-1592922313375296.jpg'\n",
      "image saved in 'img-1592922313712464.jpg'\n",
      "image saved in 'img-1592922314017174.jpg'\n",
      "image saved in 'img-1592922314371503.jpg'\n",
      "image saved in 'img-1592922314653937.jpg'\n",
      "image saved in 'img-1592922314937456.jpg'\n",
      "image saved in 'img-1592922315277874.jpg'\n",
      "image saved in 'img-1592922315541022.jpg'\n",
      "image saved in 'img-1592922315782477.jpg'\n",
      "image saved in 'img-1592922316156633.jpg'\n",
      "image saved in 'img-1592922316463413.jpg'\n",
      "image saved in 'img-1592922316856419.jpg'\n",
      "image saved in 'img-1592922317213971.jpg'\n",
      "image saved in 'img-1592922317470918.jpg'\n",
      "image saved in 'img-1592922317808585.jpg'\n",
      "image saved in 'img-1592922318038843.jpg'\n",
      "image saved in 'img-1592922318338106.jpg'\n",
      "image saved in 'img-1592922318688603.jpg'\n",
      "image saved in 'img-1592922319065554.jpg'\n",
      "image saved in 'img-1592922319442399.jpg'\n",
      "image saved in 'img-1592922319961393.jpg'\n",
      "image saved in 'img-1592922320243567.jpg'\n",
      "image saved in 'img-1592922320621548.jpg'\n",
      "image saved in 'img-1592922320996529.jpg'\n",
      "image saved in 'img-1592922321299033.jpg'\n",
      "image saved in 'img-1592922321574327.jpg'\n",
      "image saved in 'img-1592922321904353.jpg'\n",
      "image saved in 'img-1592922322284896.jpg'\n",
      "image saved in 'img-1592922322631651.jpg'\n",
      "image saved in 'img-1592922322915969.jpg'\n",
      "image saved in 'img-1592922323560110.jpg'\n",
      "image saved in 'img-1592922323829048.jpg'\n",
      "image saved in 'img-1592922324067817.jpg'\n",
      "image saved in 'img-1592922324355764.jpg'\n",
      "image saved in 'img-1592922324706862.jpg'\n",
      "image saved in 'img-1592922324974661.jpg'\n",
      "image saved in 'img-1592922325293856.jpg'\n",
      "image saved in 'img-1592922325657102.jpg'\n",
      "image saved in 'img-1592922326001628.jpg'\n",
      "image saved in 'img-1592922326449182.jpg'\n",
      "image saved in 'img-1592922326717948.jpg'\n",
      "image saved in 'img-1592922327027490.jpg'\n",
      "image saved in 'img-1592922327265263.jpg'\n",
      "image saved in 'img-1592922327449852.jpg'\n",
      "image saved in 'img-1592922327773277.jpg'\n",
      "image saved in 'img-1592922328158443.jpg'\n",
      "image saved in 'img-1592922328473017.jpg'\n",
      "image saved in 'img-1592922328883242.jpg'\n",
      "image saved in 'img-1592922329252802.jpg'\n",
      "image saved in 'img-1592922329553532.jpg'\n",
      "image saved in 'img-1592922329884178.jpg'\n",
      "image saved in 'img-1592922330112449.jpg'\n",
      "image saved in 'img-1592922330382089.jpg'\n",
      "image saved in 'img-1592922330829253.jpg'\n",
      "image saved in 'img-1592922331200840.jpg'\n",
      "image saved in 'img-1592922331500712.jpg'\n",
      "image saved in 'img-1592922331763811.jpg'\n",
      "image saved in 'img-1592922332302458.jpg'\n",
      "image saved in 'img-1592922332558555.jpg'\n",
      "image saved in 'img-1592922332772922.jpg'\n",
      "image saved in 'img-1592922333051324.jpg'\n",
      "image saved in 'img-1592922333266314.jpg'\n",
      "image saved in 'img-1592922333448169.jpg'\n",
      "image saved in 'img-1592922333891541.jpg'\n",
      "image saved in 'img-1592922334202940.jpg'\n",
      "image saved in 'img-1592922334499848.jpg'\n",
      "image saved in 'img-1592922334763384.jpg'\n",
      "image saved in 'img-1592922334960583.jpg'\n",
      "image saved in 'img-1592922335391422.jpg'\n",
      "image saved in 'img-1592922335610927.jpg'\n",
      "image saved in 'img-1592922335760045.jpg'\n",
      "image saved in 'img-1592922335975033.jpg'\n",
      "image saved in 'img-1592922336341884.jpg'\n",
      "image saved in 'img-1592922336870761.jpg'\n",
      "image saved in 'img-1592922337263034.jpg'\n",
      "image saved in 'img-1592922337493711.jpg'\n",
      "image saved in 'img-1592922337753349.jpg'\n",
      "image saved in 'img-1592922338080850.jpg'\n",
      "image saved in 'img-1592922338440118.jpg'\n",
      "image saved in 'img-1592922338666674.jpg'\n",
      "image saved in 'img-1592922338971189.jpg'\n"
     ]
    }
   ],
   "source": [
    "mk_cal_images()"
   ]
  },
  {
   "cell_type": "code",
   "execution_count": null,
   "metadata": {},
   "outputs": [],
   "source": []
  }
 ],
 "metadata": {
  "colab": {
   "name": "mk_cal_images.ipynb",
   "provenance": []
  },
  "kernelspec": {
   "display_name": "Python 3",
   "language": "python",
   "name": "python3"
  },
  "language_info": {
   "codemirror_mode": {
    "name": "ipython",
    "version": 3
   },
   "file_extension": ".py",
   "mimetype": "text/x-python",
   "name": "python",
   "nbconvert_exporter": "python",
   "pygments_lexer": "ipython3",
   "version": "3.6.10"
  }
 },
 "nbformat": 4,
 "nbformat_minor": 1
}
